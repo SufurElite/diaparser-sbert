{
 "cells": [
  {
   "cell_type": "markdown",
   "id": "27ea9625-694b-4c0e-a562-36092baa3910",
   "metadata": {},
   "source": [
    "# Evaluation of the Dependency Parser\n",
    "\n",
    "My modified Direct Attentive Dependency Parser that takes into account Latin Sentence Embeddings."
   ]
  },
  {
   "cell_type": "code",
   "execution_count": 1,
   "id": "848bf3d2-f4ef-4132-bf0f-3113cf3a70d8",
   "metadata": {
    "tags": []
   },
   "outputs": [],
   "source": [
    "from diaparser.parsers import Parser\n",
    "from spacy import displacy"
   ]
  },
  {
   "cell_type": "code",
   "execution_count": 14,
   "id": "20efd20f-a53c-43d8-89d9-8e7b20948db5",
   "metadata": {
    "tags": []
   },
   "outputs": [],
   "source": [
    "model_path = \"./exp/sbert-combined-sbatch/model\""
   ]
  },
  {
   "cell_type": "markdown",
   "id": "b888dc44-0f12-4a0d-9a64-8fe314b3fd8a",
   "metadata": {},
   "source": [
    "## Example Sentences"
   ]
  },
  {
   "cell_type": "code",
   "execution_count": 15,
   "id": "1f3fbad2-3e8d-4677-a5ec-1c1a5ead5c27",
   "metadata": {
    "tags": []
   },
   "outputs": [
    {
     "name": "stderr",
     "output_type": "stream",
     "text": [
      "Using bos_token, but it is not set yet.\n",
      "Using eos_token, but it is not set yet.\n"
     ]
    },
    {
     "name": "stdout",
     "output_type": "stream",
     "text": [
      "mlp_size - no sbert 800\n",
      "with sbert 1056\n"
     ]
    },
    {
     "name": "stderr",
     "output_type": "stream",
     "text": [
      "Using bos_token, but it is not set yet.\n",
      "Using eos_token, but it is not set yet.\n"
     ]
    }
   ],
   "source": [
    "parser = Parser.load(model_path)"
   ]
  },
  {
   "cell_type": "code",
   "execution_count": 19,
   "id": "41daed07-9f38-4ee5-9a92-a422a26eaaaa",
   "metadata": {
    "tags": []
   },
   "outputs": [],
   "source": [
    "dataset = parser.predict('cedant arma togae, concedat laurea laudi.'.split(\" \"), prob=True)"
   ]
  },
  {
   "cell_type": "code",
   "execution_count": 20,
   "id": "4edfaa3c-844e-4a6c-8c09-1b0e18f77b8f",
   "metadata": {
    "tags": []
   },
   "outputs": [
    {
     "data": {
      "text/plain": [
       "[1\tcedant\t_\t_\t_\t_\t0\troot\t_\t_\n",
       " 2\tarma\t_\t_\t_\t_\t1\tnsubj\t_\t_\n",
       " 3\ttogae,\t_\t_\t_\t_\t1\tobl:arg\t_\t_\n",
       " 4\tconcedat\t_\t_\t_\t_\t1\tconj\t_\t_\n",
       " 5\tlaurea\t_\t_\t_\t_\t4\tnsubj\t_\t_\n",
       " 6\tlaudi.\t_\t_\t_\t_\t4\tobl:arg\t_\t_]"
      ]
     },
     "execution_count": 20,
     "metadata": {},
     "output_type": "execute_result"
    }
   ],
   "source": [
    "dataset.sentences"
   ]
  },
  {
   "cell_type": "code",
   "execution_count": 21,
   "id": "5fb6b01e-521f-47ca-b182-b8031e0c0d0f",
   "metadata": {
    "tags": []
   },
   "outputs": [
    {
     "data": {
      "text/html": [
       "<span class=\"tex2jax_ignore\"><svg xmlns=\"http://www.w3.org/2000/svg\" xmlns:xlink=\"http://www.w3.org/1999/xlink\" xml:lang=\"en\" id=\"b399a9959a594062b904fb09f389a392-0\" class=\"displacy\" width=\"890\" height=\"317.0\" direction=\"ltr\" style=\"max-width: none; height: 317.0px; color: #000000; background: #ffffff; font-family: Arial; direction: ltr\">\n",
       "<text class=\"displacy-token\" fill=\"currentColor\" text-anchor=\"middle\" y=\"227.0\">\n",
       "    <tspan class=\"displacy-word\" fill=\"currentColor\" x=\"50\">ROOT</tspan>\n",
       "    <tspan class=\"displacy-tag\" dy=\"2em\" fill=\"currentColor\" x=\"50\"></tspan>\n",
       "</text>\n",
       "\n",
       "<text class=\"displacy-token\" fill=\"currentColor\" text-anchor=\"middle\" y=\"227.0\">\n",
       "    <tspan class=\"displacy-word\" fill=\"currentColor\" x=\"170\">cedant</tspan>\n",
       "    <tspan class=\"displacy-tag\" dy=\"2em\" fill=\"currentColor\" x=\"170\"></tspan>\n",
       "</text>\n",
       "\n",
       "<text class=\"displacy-token\" fill=\"currentColor\" text-anchor=\"middle\" y=\"227.0\">\n",
       "    <tspan class=\"displacy-word\" fill=\"currentColor\" x=\"290\">arma</tspan>\n",
       "    <tspan class=\"displacy-tag\" dy=\"2em\" fill=\"currentColor\" x=\"290\"></tspan>\n",
       "</text>\n",
       "\n",
       "<text class=\"displacy-token\" fill=\"currentColor\" text-anchor=\"middle\" y=\"227.0\">\n",
       "    <tspan class=\"displacy-word\" fill=\"currentColor\" x=\"410\">togae,</tspan>\n",
       "    <tspan class=\"displacy-tag\" dy=\"2em\" fill=\"currentColor\" x=\"410\"></tspan>\n",
       "</text>\n",
       "\n",
       "<text class=\"displacy-token\" fill=\"currentColor\" text-anchor=\"middle\" y=\"227.0\">\n",
       "    <tspan class=\"displacy-word\" fill=\"currentColor\" x=\"530\">concedat</tspan>\n",
       "    <tspan class=\"displacy-tag\" dy=\"2em\" fill=\"currentColor\" x=\"530\"></tspan>\n",
       "</text>\n",
       "\n",
       "<text class=\"displacy-token\" fill=\"currentColor\" text-anchor=\"middle\" y=\"227.0\">\n",
       "    <tspan class=\"displacy-word\" fill=\"currentColor\" x=\"650\">laurea</tspan>\n",
       "    <tspan class=\"displacy-tag\" dy=\"2em\" fill=\"currentColor\" x=\"650\"></tspan>\n",
       "</text>\n",
       "\n",
       "<text class=\"displacy-token\" fill=\"currentColor\" text-anchor=\"middle\" y=\"227.0\">\n",
       "    <tspan class=\"displacy-word\" fill=\"currentColor\" x=\"770\">laudi.</tspan>\n",
       "    <tspan class=\"displacy-tag\" dy=\"2em\" fill=\"currentColor\" x=\"770\"></tspan>\n",
       "</text>\n",
       "\n",
       "<g class=\"displacy-arrow\">\n",
       "    <path class=\"displacy-arc\" id=\"arrow-b399a9959a594062b904fb09f389a392-0-0\" stroke-width=\"2px\" d=\"M62,182.0 62,162.0 164.0,162.0 164.0,182.0\" fill=\"none\" stroke=\"currentColor\"/>\n",
       "    <text dy=\"1.25em\" style=\"font-size: 0.8em; letter-spacing: 1px\">\n",
       "        <textPath xlink:href=\"#arrow-b399a9959a594062b904fb09f389a392-0-0\" class=\"displacy-label\" startOffset=\"50%\" side=\"left\" fill=\"currentColor\" text-anchor=\"middle\">root</textPath>\n",
       "    </text>\n",
       "    <path class=\"displacy-arrowhead\" d=\"M164.0,184.0 L168.0,176.0 160.0,176.0\" fill=\"currentColor\"/>\n",
       "</g>\n",
       "\n",
       "<g class=\"displacy-arrow\">\n",
       "    <path class=\"displacy-arc\" id=\"arrow-b399a9959a594062b904fb09f389a392-0-1\" stroke-width=\"2px\" d=\"M182,182.0 182,162.0 284.0,162.0 284.0,182.0\" fill=\"none\" stroke=\"currentColor\"/>\n",
       "    <text dy=\"1.25em\" style=\"font-size: 0.8em; letter-spacing: 1px\">\n",
       "        <textPath xlink:href=\"#arrow-b399a9959a594062b904fb09f389a392-0-1\" class=\"displacy-label\" startOffset=\"50%\" side=\"left\" fill=\"currentColor\" text-anchor=\"middle\">nsubj</textPath>\n",
       "    </text>\n",
       "    <path class=\"displacy-arrowhead\" d=\"M284.0,184.0 L288.0,176.0 280.0,176.0\" fill=\"currentColor\"/>\n",
       "</g>\n",
       "\n",
       "<g class=\"displacy-arrow\">\n",
       "    <path class=\"displacy-arc\" id=\"arrow-b399a9959a594062b904fb09f389a392-0-2\" stroke-width=\"2px\" d=\"M182,182.0 182,142.0 407.0,142.0 407.0,182.0\" fill=\"none\" stroke=\"currentColor\"/>\n",
       "    <text dy=\"1.25em\" style=\"font-size: 0.8em; letter-spacing: 1px\">\n",
       "        <textPath xlink:href=\"#arrow-b399a9959a594062b904fb09f389a392-0-2\" class=\"displacy-label\" startOffset=\"50%\" side=\"left\" fill=\"currentColor\" text-anchor=\"middle\">obl:arg</textPath>\n",
       "    </text>\n",
       "    <path class=\"displacy-arrowhead\" d=\"M407.0,184.0 L411.0,176.0 403.0,176.0\" fill=\"currentColor\"/>\n",
       "</g>\n",
       "\n",
       "<g class=\"displacy-arrow\">\n",
       "    <path class=\"displacy-arc\" id=\"arrow-b399a9959a594062b904fb09f389a392-0-3\" stroke-width=\"2px\" d=\"M182,182.0 182,122.0 530.0,122.0 530.0,182.0\" fill=\"none\" stroke=\"currentColor\"/>\n",
       "    <text dy=\"1.25em\" style=\"font-size: 0.8em; letter-spacing: 1px\">\n",
       "        <textPath xlink:href=\"#arrow-b399a9959a594062b904fb09f389a392-0-3\" class=\"displacy-label\" startOffset=\"50%\" side=\"left\" fill=\"currentColor\" text-anchor=\"middle\">conj</textPath>\n",
       "    </text>\n",
       "    <path class=\"displacy-arrowhead\" d=\"M530.0,184.0 L534.0,176.0 526.0,176.0\" fill=\"currentColor\"/>\n",
       "</g>\n",
       "\n",
       "<g class=\"displacy-arrow\">\n",
       "    <path class=\"displacy-arc\" id=\"arrow-b399a9959a594062b904fb09f389a392-0-4\" stroke-width=\"2px\" d=\"M542,182.0 542,162.0 644.0,162.0 644.0,182.0\" fill=\"none\" stroke=\"currentColor\"/>\n",
       "    <text dy=\"1.25em\" style=\"font-size: 0.8em; letter-spacing: 1px\">\n",
       "        <textPath xlink:href=\"#arrow-b399a9959a594062b904fb09f389a392-0-4\" class=\"displacy-label\" startOffset=\"50%\" side=\"left\" fill=\"currentColor\" text-anchor=\"middle\">nsubj</textPath>\n",
       "    </text>\n",
       "    <path class=\"displacy-arrowhead\" d=\"M644.0,184.0 L648.0,176.0 640.0,176.0\" fill=\"currentColor\"/>\n",
       "</g>\n",
       "\n",
       "<g class=\"displacy-arrow\">\n",
       "    <path class=\"displacy-arc\" id=\"arrow-b399a9959a594062b904fb09f389a392-0-5\" stroke-width=\"2px\" d=\"M542,182.0 542,142.0 767.0,142.0 767.0,182.0\" fill=\"none\" stroke=\"currentColor\"/>\n",
       "    <text dy=\"1.25em\" style=\"font-size: 0.8em; letter-spacing: 1px\">\n",
       "        <textPath xlink:href=\"#arrow-b399a9959a594062b904fb09f389a392-0-5\" class=\"displacy-label\" startOffset=\"50%\" side=\"left\" fill=\"currentColor\" text-anchor=\"middle\">obl:arg</textPath>\n",
       "    </text>\n",
       "    <path class=\"displacy-arrowhead\" d=\"M767.0,184.0 L771.0,176.0 763.0,176.0\" fill=\"currentColor\"/>\n",
       "</g>\n",
       "</svg></span>"
      ],
      "text/plain": [
       "<IPython.core.display.HTML object>"
      ]
     },
     "metadata": {},
     "output_type": "display_data"
    }
   ],
   "source": [
    "sent = dataset.sentences[0]\n",
    "displacy.render(sent.to_displacy(), style='dep', manual=True, options={'compact': True, 'distance': 120})"
   ]
  },
  {
   "cell_type": "code",
   "execution_count": 24,
   "id": "b9a6ca6f-23d1-4394-aa4b-2457c242abeb",
   "metadata": {
    "tags": []
   },
   "outputs": [
    {
     "name": "stdout",
     "output_type": "stream",
     "text": [
      "[1\tVtinam\t_\t_\t_\t_\t7\tadvmod\t_\t_\n",
      "2\ttibi\t_\t_\t_\t_\t7\tobl:arg\t_\t_\n",
      "3\tistam\t_\t_\t_\t_\t4\tdet\t_\t_\n",
      "4\tmentem\t_\t_\t_\t_\t7\tobj\t_\t_\n",
      "5\tdi\t_\t_\t_\t_\t7\tnsubj\t_\t_\n",
      "6\timmortales\t_\t_\t_\t_\t5\tamod\t_\t_\n",
      "7\tduint!\t_\t_\t_\t_\t0\troot\t_\t_\n",
      "]\n"
     ]
    },
    {
     "data": {
      "text/html": [
       "<span class=\"tex2jax_ignore\"><svg xmlns=\"http://www.w3.org/2000/svg\" xmlns:xlink=\"http://www.w3.org/1999/xlink\" xml:lang=\"en\" id=\"88d25fe7f47b48bab69ba20f09ce44be-0\" class=\"displacy\" width=\"1010\" height=\"497.0\" direction=\"ltr\" style=\"max-width: none; height: 497.0px; color: #000000; background: #ffffff; font-family: Arial; direction: ltr\">\n",
       "<text class=\"displacy-token\" fill=\"currentColor\" text-anchor=\"middle\" y=\"407.0\">\n",
       "    <tspan class=\"displacy-word\" fill=\"currentColor\" x=\"50\">ROOT</tspan>\n",
       "    <tspan class=\"displacy-tag\" dy=\"2em\" fill=\"currentColor\" x=\"50\"></tspan>\n",
       "</text>\n",
       "\n",
       "<text class=\"displacy-token\" fill=\"currentColor\" text-anchor=\"middle\" y=\"407.0\">\n",
       "    <tspan class=\"displacy-word\" fill=\"currentColor\" x=\"170\">Vtinam</tspan>\n",
       "    <tspan class=\"displacy-tag\" dy=\"2em\" fill=\"currentColor\" x=\"170\"></tspan>\n",
       "</text>\n",
       "\n",
       "<text class=\"displacy-token\" fill=\"currentColor\" text-anchor=\"middle\" y=\"407.0\">\n",
       "    <tspan class=\"displacy-word\" fill=\"currentColor\" x=\"290\">tibi</tspan>\n",
       "    <tspan class=\"displacy-tag\" dy=\"2em\" fill=\"currentColor\" x=\"290\"></tspan>\n",
       "</text>\n",
       "\n",
       "<text class=\"displacy-token\" fill=\"currentColor\" text-anchor=\"middle\" y=\"407.0\">\n",
       "    <tspan class=\"displacy-word\" fill=\"currentColor\" x=\"410\">istam</tspan>\n",
       "    <tspan class=\"displacy-tag\" dy=\"2em\" fill=\"currentColor\" x=\"410\"></tspan>\n",
       "</text>\n",
       "\n",
       "<text class=\"displacy-token\" fill=\"currentColor\" text-anchor=\"middle\" y=\"407.0\">\n",
       "    <tspan class=\"displacy-word\" fill=\"currentColor\" x=\"530\">mentem</tspan>\n",
       "    <tspan class=\"displacy-tag\" dy=\"2em\" fill=\"currentColor\" x=\"530\"></tspan>\n",
       "</text>\n",
       "\n",
       "<text class=\"displacy-token\" fill=\"currentColor\" text-anchor=\"middle\" y=\"407.0\">\n",
       "    <tspan class=\"displacy-word\" fill=\"currentColor\" x=\"650\">di</tspan>\n",
       "    <tspan class=\"displacy-tag\" dy=\"2em\" fill=\"currentColor\" x=\"650\"></tspan>\n",
       "</text>\n",
       "\n",
       "<text class=\"displacy-token\" fill=\"currentColor\" text-anchor=\"middle\" y=\"407.0\">\n",
       "    <tspan class=\"displacy-word\" fill=\"currentColor\" x=\"770\">immortales</tspan>\n",
       "    <tspan class=\"displacy-tag\" dy=\"2em\" fill=\"currentColor\" x=\"770\"></tspan>\n",
       "</text>\n",
       "\n",
       "<text class=\"displacy-token\" fill=\"currentColor\" text-anchor=\"middle\" y=\"407.0\">\n",
       "    <tspan class=\"displacy-word\" fill=\"currentColor\" x=\"890\">duint!</tspan>\n",
       "    <tspan class=\"displacy-tag\" dy=\"2em\" fill=\"currentColor\" x=\"890\"></tspan>\n",
       "</text>\n",
       "\n",
       "<g class=\"displacy-arrow\">\n",
       "    <path class=\"displacy-arc\" id=\"arrow-88d25fe7f47b48bab69ba20f09ce44be-0-0\" stroke-width=\"2px\" d=\"M182,362.0 182,262.0 887.0,262.0 887.0,362.0\" fill=\"none\" stroke=\"currentColor\"/>\n",
       "    <text dy=\"1.25em\" style=\"font-size: 0.8em; letter-spacing: 1px\">\n",
       "        <textPath xlink:href=\"#arrow-88d25fe7f47b48bab69ba20f09ce44be-0-0\" class=\"displacy-label\" startOffset=\"50%\" side=\"left\" fill=\"currentColor\" text-anchor=\"middle\">advmod</textPath>\n",
       "    </text>\n",
       "    <path class=\"displacy-arrowhead\" d=\"M182,364.0 L178,356.0 186,356.0\" fill=\"currentColor\"/>\n",
       "</g>\n",
       "\n",
       "<g class=\"displacy-arrow\">\n",
       "    <path class=\"displacy-arc\" id=\"arrow-88d25fe7f47b48bab69ba20f09ce44be-0-1\" stroke-width=\"2px\" d=\"M302,362.0 302,282.0 884.0,282.0 884.0,362.0\" fill=\"none\" stroke=\"currentColor\"/>\n",
       "    <text dy=\"1.25em\" style=\"font-size: 0.8em; letter-spacing: 1px\">\n",
       "        <textPath xlink:href=\"#arrow-88d25fe7f47b48bab69ba20f09ce44be-0-1\" class=\"displacy-label\" startOffset=\"50%\" side=\"left\" fill=\"currentColor\" text-anchor=\"middle\">obl:arg</textPath>\n",
       "    </text>\n",
       "    <path class=\"displacy-arrowhead\" d=\"M302,364.0 L298,356.0 306,356.0\" fill=\"currentColor\"/>\n",
       "</g>\n",
       "\n",
       "<g class=\"displacy-arrow\">\n",
       "    <path class=\"displacy-arc\" id=\"arrow-88d25fe7f47b48bab69ba20f09ce44be-0-2\" stroke-width=\"2px\" d=\"M422,362.0 422,342.0 515.0,342.0 515.0,362.0\" fill=\"none\" stroke=\"currentColor\"/>\n",
       "    <text dy=\"1.25em\" style=\"font-size: 0.8em; letter-spacing: 1px\">\n",
       "        <textPath xlink:href=\"#arrow-88d25fe7f47b48bab69ba20f09ce44be-0-2\" class=\"displacy-label\" startOffset=\"50%\" side=\"left\" fill=\"currentColor\" text-anchor=\"middle\">det</textPath>\n",
       "    </text>\n",
       "    <path class=\"displacy-arrowhead\" d=\"M422,364.0 L418,356.0 426,356.0\" fill=\"currentColor\"/>\n",
       "</g>\n",
       "\n",
       "<g class=\"displacy-arrow\">\n",
       "    <path class=\"displacy-arc\" id=\"arrow-88d25fe7f47b48bab69ba20f09ce44be-0-3\" stroke-width=\"2px\" d=\"M542,362.0 542,302.0 881.0,302.0 881.0,362.0\" fill=\"none\" stroke=\"currentColor\"/>\n",
       "    <text dy=\"1.25em\" style=\"font-size: 0.8em; letter-spacing: 1px\">\n",
       "        <textPath xlink:href=\"#arrow-88d25fe7f47b48bab69ba20f09ce44be-0-3\" class=\"displacy-label\" startOffset=\"50%\" side=\"left\" fill=\"currentColor\" text-anchor=\"middle\">obj</textPath>\n",
       "    </text>\n",
       "    <path class=\"displacy-arrowhead\" d=\"M542,364.0 L538,356.0 546,356.0\" fill=\"currentColor\"/>\n",
       "</g>\n",
       "\n",
       "<g class=\"displacy-arrow\">\n",
       "    <path class=\"displacy-arc\" id=\"arrow-88d25fe7f47b48bab69ba20f09ce44be-0-4\" stroke-width=\"2px\" d=\"M662,362.0 662,322.0 878.0,322.0 878.0,362.0\" fill=\"none\" stroke=\"currentColor\"/>\n",
       "    <text dy=\"1.25em\" style=\"font-size: 0.8em; letter-spacing: 1px\">\n",
       "        <textPath xlink:href=\"#arrow-88d25fe7f47b48bab69ba20f09ce44be-0-4\" class=\"displacy-label\" startOffset=\"50%\" side=\"left\" fill=\"currentColor\" text-anchor=\"middle\">nsubj</textPath>\n",
       "    </text>\n",
       "    <path class=\"displacy-arrowhead\" d=\"M662,364.0 L658,356.0 666,356.0\" fill=\"currentColor\"/>\n",
       "</g>\n",
       "\n",
       "<g class=\"displacy-arrow\">\n",
       "    <path class=\"displacy-arc\" id=\"arrow-88d25fe7f47b48bab69ba20f09ce44be-0-5\" stroke-width=\"2px\" d=\"M662,362.0 662,342.0 755.0,342.0 755.0,362.0\" fill=\"none\" stroke=\"currentColor\"/>\n",
       "    <text dy=\"1.25em\" style=\"font-size: 0.8em; letter-spacing: 1px\">\n",
       "        <textPath xlink:href=\"#arrow-88d25fe7f47b48bab69ba20f09ce44be-0-5\" class=\"displacy-label\" startOffset=\"50%\" side=\"left\" fill=\"currentColor\" text-anchor=\"middle\">amod</textPath>\n",
       "    </text>\n",
       "    <path class=\"displacy-arrowhead\" d=\"M755.0,364.0 L759.0,356.0 751.0,356.0\" fill=\"currentColor\"/>\n",
       "</g>\n",
       "\n",
       "<g class=\"displacy-arrow\">\n",
       "    <path class=\"displacy-arc\" id=\"arrow-88d25fe7f47b48bab69ba20f09ce44be-0-6\" stroke-width=\"2px\" d=\"M62,362.0 62,242.0 890.0,242.0 890.0,362.0\" fill=\"none\" stroke=\"currentColor\"/>\n",
       "    <text dy=\"1.25em\" style=\"font-size: 0.8em; letter-spacing: 1px\">\n",
       "        <textPath xlink:href=\"#arrow-88d25fe7f47b48bab69ba20f09ce44be-0-6\" class=\"displacy-label\" startOffset=\"50%\" side=\"left\" fill=\"currentColor\" text-anchor=\"middle\">root</textPath>\n",
       "    </text>\n",
       "    <path class=\"displacy-arrowhead\" d=\"M890.0,364.0 L894.0,356.0 886.0,356.0\" fill=\"currentColor\"/>\n",
       "</g>\n",
       "</svg></span>"
      ],
      "text/plain": [
       "<IPython.core.display.HTML object>"
      ]
     },
     "metadata": {},
     "output_type": "display_data"
    }
   ],
   "source": [
    "dataset = parser.predict('Vtinam tibi istam mentem di immortales duint!'.split(\" \"), prob=True)\n",
    "print(dataset.sentences)\n",
    "sent = dataset.sentences[0]\n",
    "displacy.render(sent.to_displacy(), style='dep', manual=True, options={'compact': True, 'distance': 120})"
   ]
  },
  {
   "cell_type": "markdown",
   "id": "20c51ac1-9c3c-4a05-8975-79c1672e5c9c",
   "metadata": {},
   "source": [
    "Start of paddington:"
   ]
  },
  {
   "cell_type": "code",
   "execution_count": 8,
   "id": "3060f009-6d28-400e-843f-a2797239c534",
   "metadata": {
    "tags": []
   },
   "outputs": [
    {
     "name": "stdout",
     "output_type": "stream",
     "text": [
      "1\tDominus\t_\t_\t_\t_\t8\tnsubj\t_\t_\n",
      "2\tBrunnus\t_\t_\t_\t_\t1\tappos\t_\t_\n",
      "3\tet\t_\t_\t_\t_\t4\tcc\t_\t_\n",
      "4\tDomina\t_\t_\t_\t_\t1\tconj\t_\t_\n",
      "5\tBrunna\t_\t_\t_\t_\t4\tappos\t_\t_\n",
      "6\tprimum\t_\t_\t_\t_\t8\tadvmod\t_\t_\n",
      "7\tpaddingtoni\t_\t_\t_\t_\t8\tobl\t_\t_\n",
      "8\toccurrerunt\t_\t_\t_\t_\t0\troot\t_\t_\n",
      "9\tin\t_\t_\t_\t_\t10\tcase\t_\t_\n",
      "10\tcrepidine\t_\t_\t_\t_\t8\tobl\t_\t_\n",
      "11\tferroviaria.\t_\t_\t_\t_\t10\tamod\t_\t_\n",
      "\n"
     ]
    },
    {
     "data": {
      "text/html": [
       "<span class=\"tex2jax_ignore\"><svg xmlns=\"http://www.w3.org/2000/svg\" xmlns:xlink=\"http://www.w3.org/1999/xlink\" xml:lang=\"en\" id=\"41b9f1ede9424a0bb0e2a29579ffe620-0\" class=\"displacy\" width=\"1490\" height=\"377.0\" direction=\"ltr\" style=\"max-width: none; height: 377.0px; color: #000000; background: #ffffff; font-family: Arial; direction: ltr\">\n",
       "<text class=\"displacy-token\" fill=\"currentColor\" text-anchor=\"middle\" y=\"287.0\">\n",
       "    <tspan class=\"displacy-word\" fill=\"currentColor\" x=\"50\">ROOT</tspan>\n",
       "    <tspan class=\"displacy-tag\" dy=\"2em\" fill=\"currentColor\" x=\"50\"></tspan>\n",
       "</text>\n",
       "\n",
       "<text class=\"displacy-token\" fill=\"currentColor\" text-anchor=\"middle\" y=\"287.0\">\n",
       "    <tspan class=\"displacy-word\" fill=\"currentColor\" x=\"170\">Dominus</tspan>\n",
       "    <tspan class=\"displacy-tag\" dy=\"2em\" fill=\"currentColor\" x=\"170\"></tspan>\n",
       "</text>\n",
       "\n",
       "<text class=\"displacy-token\" fill=\"currentColor\" text-anchor=\"middle\" y=\"287.0\">\n",
       "    <tspan class=\"displacy-word\" fill=\"currentColor\" x=\"290\">Brunnus</tspan>\n",
       "    <tspan class=\"displacy-tag\" dy=\"2em\" fill=\"currentColor\" x=\"290\"></tspan>\n",
       "</text>\n",
       "\n",
       "<text class=\"displacy-token\" fill=\"currentColor\" text-anchor=\"middle\" y=\"287.0\">\n",
       "    <tspan class=\"displacy-word\" fill=\"currentColor\" x=\"410\">et</tspan>\n",
       "    <tspan class=\"displacy-tag\" dy=\"2em\" fill=\"currentColor\" x=\"410\"></tspan>\n",
       "</text>\n",
       "\n",
       "<text class=\"displacy-token\" fill=\"currentColor\" text-anchor=\"middle\" y=\"287.0\">\n",
       "    <tspan class=\"displacy-word\" fill=\"currentColor\" x=\"530\">Domina</tspan>\n",
       "    <tspan class=\"displacy-tag\" dy=\"2em\" fill=\"currentColor\" x=\"530\"></tspan>\n",
       "</text>\n",
       "\n",
       "<text class=\"displacy-token\" fill=\"currentColor\" text-anchor=\"middle\" y=\"287.0\">\n",
       "    <tspan class=\"displacy-word\" fill=\"currentColor\" x=\"650\">Brunna</tspan>\n",
       "    <tspan class=\"displacy-tag\" dy=\"2em\" fill=\"currentColor\" x=\"650\"></tspan>\n",
       "</text>\n",
       "\n",
       "<text class=\"displacy-token\" fill=\"currentColor\" text-anchor=\"middle\" y=\"287.0\">\n",
       "    <tspan class=\"displacy-word\" fill=\"currentColor\" x=\"770\">primum</tspan>\n",
       "    <tspan class=\"displacy-tag\" dy=\"2em\" fill=\"currentColor\" x=\"770\"></tspan>\n",
       "</text>\n",
       "\n",
       "<text class=\"displacy-token\" fill=\"currentColor\" text-anchor=\"middle\" y=\"287.0\">\n",
       "    <tspan class=\"displacy-word\" fill=\"currentColor\" x=\"890\">paddingtoni</tspan>\n",
       "    <tspan class=\"displacy-tag\" dy=\"2em\" fill=\"currentColor\" x=\"890\"></tspan>\n",
       "</text>\n",
       "\n",
       "<text class=\"displacy-token\" fill=\"currentColor\" text-anchor=\"middle\" y=\"287.0\">\n",
       "    <tspan class=\"displacy-word\" fill=\"currentColor\" x=\"1010\">occurrerunt</tspan>\n",
       "    <tspan class=\"displacy-tag\" dy=\"2em\" fill=\"currentColor\" x=\"1010\"></tspan>\n",
       "</text>\n",
       "\n",
       "<text class=\"displacy-token\" fill=\"currentColor\" text-anchor=\"middle\" y=\"287.0\">\n",
       "    <tspan class=\"displacy-word\" fill=\"currentColor\" x=\"1130\">in</tspan>\n",
       "    <tspan class=\"displacy-tag\" dy=\"2em\" fill=\"currentColor\" x=\"1130\"></tspan>\n",
       "</text>\n",
       "\n",
       "<text class=\"displacy-token\" fill=\"currentColor\" text-anchor=\"middle\" y=\"287.0\">\n",
       "    <tspan class=\"displacy-word\" fill=\"currentColor\" x=\"1250\">crepidine</tspan>\n",
       "    <tspan class=\"displacy-tag\" dy=\"2em\" fill=\"currentColor\" x=\"1250\"></tspan>\n",
       "</text>\n",
       "\n",
       "<text class=\"displacy-token\" fill=\"currentColor\" text-anchor=\"middle\" y=\"287.0\">\n",
       "    <tspan class=\"displacy-word\" fill=\"currentColor\" x=\"1370\">ferroviaria.</tspan>\n",
       "    <tspan class=\"displacy-tag\" dy=\"2em\" fill=\"currentColor\" x=\"1370\"></tspan>\n",
       "</text>\n",
       "\n",
       "<g class=\"displacy-arrow\">\n",
       "    <path class=\"displacy-arc\" id=\"arrow-41b9f1ede9424a0bb0e2a29579ffe620-0-0\" stroke-width=\"2px\" d=\"M182,242.0 182,182.0 1007.0,182.0 1007.0,242.0\" fill=\"none\" stroke=\"currentColor\"/>\n",
       "    <text dy=\"1.25em\" style=\"font-size: 0.8em; letter-spacing: 1px\">\n",
       "        <textPath xlink:href=\"#arrow-41b9f1ede9424a0bb0e2a29579ffe620-0-0\" class=\"displacy-label\" startOffset=\"50%\" side=\"left\" fill=\"currentColor\" text-anchor=\"middle\">nsubj</textPath>\n",
       "    </text>\n",
       "    <path class=\"displacy-arrowhead\" d=\"M182,244.0 L178,236.0 186,236.0\" fill=\"currentColor\"/>\n",
       "</g>\n",
       "\n",
       "<g class=\"displacy-arrow\">\n",
       "    <path class=\"displacy-arc\" id=\"arrow-41b9f1ede9424a0bb0e2a29579ffe620-0-1\" stroke-width=\"2px\" d=\"M182,242.0 182,222.0 281.0,222.0 281.0,242.0\" fill=\"none\" stroke=\"currentColor\"/>\n",
       "    <text dy=\"1.25em\" style=\"font-size: 0.8em; letter-spacing: 1px\">\n",
       "        <textPath xlink:href=\"#arrow-41b9f1ede9424a0bb0e2a29579ffe620-0-1\" class=\"displacy-label\" startOffset=\"50%\" side=\"left\" fill=\"currentColor\" text-anchor=\"middle\">appos</textPath>\n",
       "    </text>\n",
       "    <path class=\"displacy-arrowhead\" d=\"M281.0,244.0 L285.0,236.0 277.0,236.0\" fill=\"currentColor\"/>\n",
       "</g>\n",
       "\n",
       "<g class=\"displacy-arrow\">\n",
       "    <path class=\"displacy-arc\" id=\"arrow-41b9f1ede9424a0bb0e2a29579ffe620-0-2\" stroke-width=\"2px\" d=\"M422,242.0 422,222.0 521.0,222.0 521.0,242.0\" fill=\"none\" stroke=\"currentColor\"/>\n",
       "    <text dy=\"1.25em\" style=\"font-size: 0.8em; letter-spacing: 1px\">\n",
       "        <textPath xlink:href=\"#arrow-41b9f1ede9424a0bb0e2a29579ffe620-0-2\" class=\"displacy-label\" startOffset=\"50%\" side=\"left\" fill=\"currentColor\" text-anchor=\"middle\">cc</textPath>\n",
       "    </text>\n",
       "    <path class=\"displacy-arrowhead\" d=\"M422,244.0 L418,236.0 426,236.0\" fill=\"currentColor\"/>\n",
       "</g>\n",
       "\n",
       "<g class=\"displacy-arrow\">\n",
       "    <path class=\"displacy-arc\" id=\"arrow-41b9f1ede9424a0bb0e2a29579ffe620-0-3\" stroke-width=\"2px\" d=\"M182,242.0 182,202.0 524.0,202.0 524.0,242.0\" fill=\"none\" stroke=\"currentColor\"/>\n",
       "    <text dy=\"1.25em\" style=\"font-size: 0.8em; letter-spacing: 1px\">\n",
       "        <textPath xlink:href=\"#arrow-41b9f1ede9424a0bb0e2a29579ffe620-0-3\" class=\"displacy-label\" startOffset=\"50%\" side=\"left\" fill=\"currentColor\" text-anchor=\"middle\">conj</textPath>\n",
       "    </text>\n",
       "    <path class=\"displacy-arrowhead\" d=\"M524.0,244.0 L528.0,236.0 520.0,236.0\" fill=\"currentColor\"/>\n",
       "</g>\n",
       "\n",
       "<g class=\"displacy-arrow\">\n",
       "    <path class=\"displacy-arc\" id=\"arrow-41b9f1ede9424a0bb0e2a29579ffe620-0-4\" stroke-width=\"2px\" d=\"M542,242.0 542,222.0 641.0,222.0 641.0,242.0\" fill=\"none\" stroke=\"currentColor\"/>\n",
       "    <text dy=\"1.25em\" style=\"font-size: 0.8em; letter-spacing: 1px\">\n",
       "        <textPath xlink:href=\"#arrow-41b9f1ede9424a0bb0e2a29579ffe620-0-4\" class=\"displacy-label\" startOffset=\"50%\" side=\"left\" fill=\"currentColor\" text-anchor=\"middle\">appos</textPath>\n",
       "    </text>\n",
       "    <path class=\"displacy-arrowhead\" d=\"M641.0,244.0 L645.0,236.0 637.0,236.0\" fill=\"currentColor\"/>\n",
       "</g>\n",
       "\n",
       "<g class=\"displacy-arrow\">\n",
       "    <path class=\"displacy-arc\" id=\"arrow-41b9f1ede9424a0bb0e2a29579ffe620-0-5\" stroke-width=\"2px\" d=\"M782,242.0 782,202.0 1004.0,202.0 1004.0,242.0\" fill=\"none\" stroke=\"currentColor\"/>\n",
       "    <text dy=\"1.25em\" style=\"font-size: 0.8em; letter-spacing: 1px\">\n",
       "        <textPath xlink:href=\"#arrow-41b9f1ede9424a0bb0e2a29579ffe620-0-5\" class=\"displacy-label\" startOffset=\"50%\" side=\"left\" fill=\"currentColor\" text-anchor=\"middle\">advmod</textPath>\n",
       "    </text>\n",
       "    <path class=\"displacy-arrowhead\" d=\"M782,244.0 L778,236.0 786,236.0\" fill=\"currentColor\"/>\n",
       "</g>\n",
       "\n",
       "<g class=\"displacy-arrow\">\n",
       "    <path class=\"displacy-arc\" id=\"arrow-41b9f1ede9424a0bb0e2a29579ffe620-0-6\" stroke-width=\"2px\" d=\"M902,242.0 902,222.0 1001.0,222.0 1001.0,242.0\" fill=\"none\" stroke=\"currentColor\"/>\n",
       "    <text dy=\"1.25em\" style=\"font-size: 0.8em; letter-spacing: 1px\">\n",
       "        <textPath xlink:href=\"#arrow-41b9f1ede9424a0bb0e2a29579ffe620-0-6\" class=\"displacy-label\" startOffset=\"50%\" side=\"left\" fill=\"currentColor\" text-anchor=\"middle\">obl</textPath>\n",
       "    </text>\n",
       "    <path class=\"displacy-arrowhead\" d=\"M902,244.0 L898,236.0 906,236.0\" fill=\"currentColor\"/>\n",
       "</g>\n",
       "\n",
       "<g class=\"displacy-arrow\">\n",
       "    <path class=\"displacy-arc\" id=\"arrow-41b9f1ede9424a0bb0e2a29579ffe620-0-7\" stroke-width=\"2px\" d=\"M62,242.0 62,162.0 1010.0,162.0 1010.0,242.0\" fill=\"none\" stroke=\"currentColor\"/>\n",
       "    <text dy=\"1.25em\" style=\"font-size: 0.8em; letter-spacing: 1px\">\n",
       "        <textPath xlink:href=\"#arrow-41b9f1ede9424a0bb0e2a29579ffe620-0-7\" class=\"displacy-label\" startOffset=\"50%\" side=\"left\" fill=\"currentColor\" text-anchor=\"middle\">root</textPath>\n",
       "    </text>\n",
       "    <path class=\"displacy-arrowhead\" d=\"M1010.0,244.0 L1014.0,236.0 1006.0,236.0\" fill=\"currentColor\"/>\n",
       "</g>\n",
       "\n",
       "<g class=\"displacy-arrow\">\n",
       "    <path class=\"displacy-arc\" id=\"arrow-41b9f1ede9424a0bb0e2a29579ffe620-0-8\" stroke-width=\"2px\" d=\"M1142,242.0 1142,222.0 1241.0,222.0 1241.0,242.0\" fill=\"none\" stroke=\"currentColor\"/>\n",
       "    <text dy=\"1.25em\" style=\"font-size: 0.8em; letter-spacing: 1px\">\n",
       "        <textPath xlink:href=\"#arrow-41b9f1ede9424a0bb0e2a29579ffe620-0-8\" class=\"displacy-label\" startOffset=\"50%\" side=\"left\" fill=\"currentColor\" text-anchor=\"middle\">case</textPath>\n",
       "    </text>\n",
       "    <path class=\"displacy-arrowhead\" d=\"M1142,244.0 L1138,236.0 1146,236.0\" fill=\"currentColor\"/>\n",
       "</g>\n",
       "\n",
       "<g class=\"displacy-arrow\">\n",
       "    <path class=\"displacy-arc\" id=\"arrow-41b9f1ede9424a0bb0e2a29579ffe620-0-9\" stroke-width=\"2px\" d=\"M1022,242.0 1022,202.0 1244.0,202.0 1244.0,242.0\" fill=\"none\" stroke=\"currentColor\"/>\n",
       "    <text dy=\"1.25em\" style=\"font-size: 0.8em; letter-spacing: 1px\">\n",
       "        <textPath xlink:href=\"#arrow-41b9f1ede9424a0bb0e2a29579ffe620-0-9\" class=\"displacy-label\" startOffset=\"50%\" side=\"left\" fill=\"currentColor\" text-anchor=\"middle\">obl</textPath>\n",
       "    </text>\n",
       "    <path class=\"displacy-arrowhead\" d=\"M1244.0,244.0 L1248.0,236.0 1240.0,236.0\" fill=\"currentColor\"/>\n",
       "</g>\n",
       "\n",
       "<g class=\"displacy-arrow\">\n",
       "    <path class=\"displacy-arc\" id=\"arrow-41b9f1ede9424a0bb0e2a29579ffe620-0-10\" stroke-width=\"2px\" d=\"M1262,242.0 1262,222.0 1361.0,222.0 1361.0,242.0\" fill=\"none\" stroke=\"currentColor\"/>\n",
       "    <text dy=\"1.25em\" style=\"font-size: 0.8em; letter-spacing: 1px\">\n",
       "        <textPath xlink:href=\"#arrow-41b9f1ede9424a0bb0e2a29579ffe620-0-10\" class=\"displacy-label\" startOffset=\"50%\" side=\"left\" fill=\"currentColor\" text-anchor=\"middle\">amod</textPath>\n",
       "    </text>\n",
       "    <path class=\"displacy-arrowhead\" d=\"M1361.0,244.0 L1365.0,236.0 1357.0,236.0\" fill=\"currentColor\"/>\n",
       "</g>\n",
       "</svg></span>"
      ],
      "text/plain": [
       "<IPython.core.display.HTML object>"
      ]
     },
     "metadata": {},
     "output_type": "display_data"
    }
   ],
   "source": [
    "paddington_data = parser.predict('Dominus Brunnus et Domina Brunna primum paddingtoni occurrerunt in crepidine ferroviaria.'.split(\" \"), prob=True)\n",
    "sent = paddington_data.sentences[0]\n",
    "print(sent)\n",
    "displacy.render(sent.to_displacy(), style='dep', manual=True, options={'compact': True, 'distance': 120})"
   ]
  },
  {
   "cell_type": "code",
   "execution_count": 9,
   "id": "8e881fc0-3288-46a1-85d2-88f91cabb867",
   "metadata": {
    "tags": []
   },
   "outputs": [
    {
     "name": "stdout",
     "output_type": "stream",
     "text": [
      "1\tGallia\t_\t_\t_\t_\t4\tnsubj:pass\t_\t_\n",
      "2\test\t_\t_\t_\t_\t4\taux:pass\t_\t_\n",
      "3\tomnis\t_\t_\t_\t_\t1\tdet\t_\t_\n",
      "4\tdivisa\t_\t_\t_\t_\t0\troot\t_\t_\n",
      "5\tin\t_\t_\t_\t_\t6\tcase\t_\t_\n",
      "6\tpartes\t_\t_\t_\t_\t4\tobl\t_\t_\n",
      "7\ttres\t_\t_\t_\t_\t6\tnummod\t_\t_\n",
      "\n"
     ]
    },
    {
     "data": {
      "text/html": [
       "<span class=\"tex2jax_ignore\"><svg xmlns=\"http://www.w3.org/2000/svg\" xmlns:xlink=\"http://www.w3.org/1999/xlink\" xml:lang=\"en\" id=\"c90a94bf81e84bc091bf926888d5490f-0\" class=\"displacy\" width=\"1010\" height=\"377.0\" direction=\"ltr\" style=\"max-width: none; height: 377.0px; color: #000000; background: #ffffff; font-family: Arial; direction: ltr\">\n",
       "<text class=\"displacy-token\" fill=\"currentColor\" text-anchor=\"middle\" y=\"287.0\">\n",
       "    <tspan class=\"displacy-word\" fill=\"currentColor\" x=\"50\">ROOT</tspan>\n",
       "    <tspan class=\"displacy-tag\" dy=\"2em\" fill=\"currentColor\" x=\"50\"></tspan>\n",
       "</text>\n",
       "\n",
       "<text class=\"displacy-token\" fill=\"currentColor\" text-anchor=\"middle\" y=\"287.0\">\n",
       "    <tspan class=\"displacy-word\" fill=\"currentColor\" x=\"170\">Gallia</tspan>\n",
       "    <tspan class=\"displacy-tag\" dy=\"2em\" fill=\"currentColor\" x=\"170\"></tspan>\n",
       "</text>\n",
       "\n",
       "<text class=\"displacy-token\" fill=\"currentColor\" text-anchor=\"middle\" y=\"287.0\">\n",
       "    <tspan class=\"displacy-word\" fill=\"currentColor\" x=\"290\">est</tspan>\n",
       "    <tspan class=\"displacy-tag\" dy=\"2em\" fill=\"currentColor\" x=\"290\"></tspan>\n",
       "</text>\n",
       "\n",
       "<text class=\"displacy-token\" fill=\"currentColor\" text-anchor=\"middle\" y=\"287.0\">\n",
       "    <tspan class=\"displacy-word\" fill=\"currentColor\" x=\"410\">omnis</tspan>\n",
       "    <tspan class=\"displacy-tag\" dy=\"2em\" fill=\"currentColor\" x=\"410\"></tspan>\n",
       "</text>\n",
       "\n",
       "<text class=\"displacy-token\" fill=\"currentColor\" text-anchor=\"middle\" y=\"287.0\">\n",
       "    <tspan class=\"displacy-word\" fill=\"currentColor\" x=\"530\">divisa</tspan>\n",
       "    <tspan class=\"displacy-tag\" dy=\"2em\" fill=\"currentColor\" x=\"530\"></tspan>\n",
       "</text>\n",
       "\n",
       "<text class=\"displacy-token\" fill=\"currentColor\" text-anchor=\"middle\" y=\"287.0\">\n",
       "    <tspan class=\"displacy-word\" fill=\"currentColor\" x=\"650\">in</tspan>\n",
       "    <tspan class=\"displacy-tag\" dy=\"2em\" fill=\"currentColor\" x=\"650\"></tspan>\n",
       "</text>\n",
       "\n",
       "<text class=\"displacy-token\" fill=\"currentColor\" text-anchor=\"middle\" y=\"287.0\">\n",
       "    <tspan class=\"displacy-word\" fill=\"currentColor\" x=\"770\">partes</tspan>\n",
       "    <tspan class=\"displacy-tag\" dy=\"2em\" fill=\"currentColor\" x=\"770\"></tspan>\n",
       "</text>\n",
       "\n",
       "<text class=\"displacy-token\" fill=\"currentColor\" text-anchor=\"middle\" y=\"287.0\">\n",
       "    <tspan class=\"displacy-word\" fill=\"currentColor\" x=\"890\">tres</tspan>\n",
       "    <tspan class=\"displacy-tag\" dy=\"2em\" fill=\"currentColor\" x=\"890\"></tspan>\n",
       "</text>\n",
       "\n",
       "<g class=\"displacy-arrow\">\n",
       "    <path class=\"displacy-arc\" id=\"arrow-c90a94bf81e84bc091bf926888d5490f-0-0\" stroke-width=\"2px\" d=\"M182,242.0 182,182.0 527.0,182.0 527.0,242.0\" fill=\"none\" stroke=\"currentColor\"/>\n",
       "    <text dy=\"1.25em\" style=\"font-size: 0.8em; letter-spacing: 1px\">\n",
       "        <textPath xlink:href=\"#arrow-c90a94bf81e84bc091bf926888d5490f-0-0\" class=\"displacy-label\" startOffset=\"50%\" side=\"left\" fill=\"currentColor\" text-anchor=\"middle\">nsubj:pass</textPath>\n",
       "    </text>\n",
       "    <path class=\"displacy-arrowhead\" d=\"M182,244.0 L178,236.0 186,236.0\" fill=\"currentColor\"/>\n",
       "</g>\n",
       "\n",
       "<g class=\"displacy-arrow\">\n",
       "    <path class=\"displacy-arc\" id=\"arrow-c90a94bf81e84bc091bf926888d5490f-0-1\" stroke-width=\"2px\" d=\"M302,242.0 302,222.0 521.0,222.0 521.0,242.0\" fill=\"none\" stroke=\"currentColor\"/>\n",
       "    <text dy=\"1.25em\" style=\"font-size: 0.8em; letter-spacing: 1px\">\n",
       "        <textPath xlink:href=\"#arrow-c90a94bf81e84bc091bf926888d5490f-0-1\" class=\"displacy-label\" startOffset=\"50%\" side=\"left\" fill=\"currentColor\" text-anchor=\"middle\">aux:pass</textPath>\n",
       "    </text>\n",
       "    <path class=\"displacy-arrowhead\" d=\"M302,244.0 L298,236.0 306,236.0\" fill=\"currentColor\"/>\n",
       "</g>\n",
       "\n",
       "<g class=\"displacy-arrow\">\n",
       "    <path class=\"displacy-arc\" id=\"arrow-c90a94bf81e84bc091bf926888d5490f-0-2\" stroke-width=\"2px\" d=\"M182,242.0 182,202.0 404.0,202.0 404.0,242.0\" fill=\"none\" stroke=\"currentColor\"/>\n",
       "    <text dy=\"1.25em\" style=\"font-size: 0.8em; letter-spacing: 1px\">\n",
       "        <textPath xlink:href=\"#arrow-c90a94bf81e84bc091bf926888d5490f-0-2\" class=\"displacy-label\" startOffset=\"50%\" side=\"left\" fill=\"currentColor\" text-anchor=\"middle\">det</textPath>\n",
       "    </text>\n",
       "    <path class=\"displacy-arrowhead\" d=\"M404.0,244.0 L408.0,236.0 400.0,236.0\" fill=\"currentColor\"/>\n",
       "</g>\n",
       "\n",
       "<g class=\"displacy-arrow\">\n",
       "    <path class=\"displacy-arc\" id=\"arrow-c90a94bf81e84bc091bf926888d5490f-0-3\" stroke-width=\"2px\" d=\"M62,242.0 62,162.0 530.0,162.0 530.0,242.0\" fill=\"none\" stroke=\"currentColor\"/>\n",
       "    <text dy=\"1.25em\" style=\"font-size: 0.8em; letter-spacing: 1px\">\n",
       "        <textPath xlink:href=\"#arrow-c90a94bf81e84bc091bf926888d5490f-0-3\" class=\"displacy-label\" startOffset=\"50%\" side=\"left\" fill=\"currentColor\" text-anchor=\"middle\">root</textPath>\n",
       "    </text>\n",
       "    <path class=\"displacy-arrowhead\" d=\"M530.0,244.0 L534.0,236.0 526.0,236.0\" fill=\"currentColor\"/>\n",
       "</g>\n",
       "\n",
       "<g class=\"displacy-arrow\">\n",
       "    <path class=\"displacy-arc\" id=\"arrow-c90a94bf81e84bc091bf926888d5490f-0-4\" stroke-width=\"2px\" d=\"M662,242.0 662,222.0 761.0,222.0 761.0,242.0\" fill=\"none\" stroke=\"currentColor\"/>\n",
       "    <text dy=\"1.25em\" style=\"font-size: 0.8em; letter-spacing: 1px\">\n",
       "        <textPath xlink:href=\"#arrow-c90a94bf81e84bc091bf926888d5490f-0-4\" class=\"displacy-label\" startOffset=\"50%\" side=\"left\" fill=\"currentColor\" text-anchor=\"middle\">case</textPath>\n",
       "    </text>\n",
       "    <path class=\"displacy-arrowhead\" d=\"M662,244.0 L658,236.0 666,236.0\" fill=\"currentColor\"/>\n",
       "</g>\n",
       "\n",
       "<g class=\"displacy-arrow\">\n",
       "    <path class=\"displacy-arc\" id=\"arrow-c90a94bf81e84bc091bf926888d5490f-0-5\" stroke-width=\"2px\" d=\"M542,242.0 542,202.0 764.0,202.0 764.0,242.0\" fill=\"none\" stroke=\"currentColor\"/>\n",
       "    <text dy=\"1.25em\" style=\"font-size: 0.8em; letter-spacing: 1px\">\n",
       "        <textPath xlink:href=\"#arrow-c90a94bf81e84bc091bf926888d5490f-0-5\" class=\"displacy-label\" startOffset=\"50%\" side=\"left\" fill=\"currentColor\" text-anchor=\"middle\">obl</textPath>\n",
       "    </text>\n",
       "    <path class=\"displacy-arrowhead\" d=\"M764.0,244.0 L768.0,236.0 760.0,236.0\" fill=\"currentColor\"/>\n",
       "</g>\n",
       "\n",
       "<g class=\"displacy-arrow\">\n",
       "    <path class=\"displacy-arc\" id=\"arrow-c90a94bf81e84bc091bf926888d5490f-0-6\" stroke-width=\"2px\" d=\"M782,242.0 782,222.0 881.0,222.0 881.0,242.0\" fill=\"none\" stroke=\"currentColor\"/>\n",
       "    <text dy=\"1.25em\" style=\"font-size: 0.8em; letter-spacing: 1px\">\n",
       "        <textPath xlink:href=\"#arrow-c90a94bf81e84bc091bf926888d5490f-0-6\" class=\"displacy-label\" startOffset=\"50%\" side=\"left\" fill=\"currentColor\" text-anchor=\"middle\">nummod</textPath>\n",
       "    </text>\n",
       "    <path class=\"displacy-arrowhead\" d=\"M881.0,244.0 L885.0,236.0 877.0,236.0\" fill=\"currentColor\"/>\n",
       "</g>\n",
       "</svg></span>"
      ],
      "text/plain": [
       "<IPython.core.display.HTML object>"
      ]
     },
     "metadata": {},
     "output_type": "display_data"
    }
   ],
   "source": [
    "paddington_data = parser.predict('Gallia est omnis divisa in partes tres'.split(\" \"), prob=True)\n",
    "sent = paddington_data.sentences[0]\n",
    "print(sent)\n",
    "displacy.render(sent.to_displacy(), style='dep', manual=True, options={'compact': True, 'distance': 120})"
   ]
  },
  {
   "cell_type": "markdown",
   "id": "1ada41ca-464a-43f2-8e20-98610c83e85f",
   "metadata": {},
   "source": [
    "### Evaluation against datasets\n",
    "\n",
    "This isn't particularly useful because it's possible/likely that sentences from the dev and test sets ended up in the combined datasets."
   ]
  },
  {
   "cell_type": "code",
   "execution_count": 2,
   "id": "48562977-5394-48c7-b3d4-73b9959ef6c5",
   "metadata": {
    "tags": []
   },
   "outputs": [],
   "source": [
    "ittb_dev = \"../data/ITTB/la_ittb-ud-dev.conllu\"\n",
    "dante_dev = \"../data/Dante/la_udante-ud-dev.conllu\"\n",
    "late_dev = \"../data/Late/la_llct-ud-dev.conllu\"\n",
    "perseus_test = \"../data/Perseus/la_perseus-ud-test.conllu\"\n",
    "proiel_dev = \"../data/PROIEL/la_proiel-ud-dev.conllu\""
   ]
  },
  {
   "cell_type": "code",
   "execution_count": 11,
   "id": "91c8d504-e60e-42c6-a897-41cbb096b84f",
   "metadata": {
    "tags": []
   },
   "outputs": [
    {
     "name": "stderr",
     "output_type": "stream",
     "text": [
      "2024-02-07 14:25:30 INFO Loading the data\n"
     ]
    },
    {
     "name": "stdout",
     "output_type": "stream",
     "text": [
      "ITTB dev:\n"
     ]
    },
    {
     "name": "stderr",
     "output_type": "stream",
     "text": [
      "2024-02-07 14:25:31 INFO \n",
      "Dataset(n_sentences=2101, n_batches=10, n_buckets=8)\n",
      "2024-02-07 14:25:31 INFO Evaluating the dataset\n",
      "2024-02-07 14:25:33 INFO loss: 0.2426 - UCM: 76.39% LCM: 64.49% UAS: 96.34% LAS: 94.02%\n",
      "2024-02-07 14:25:33 INFO 0:00:02.057792s elapsed, 1021.00 Sents/s\n",
      "2024-02-07 14:25:33 INFO Loading the data\n"
     ]
    },
    {
     "name": "stdout",
     "output_type": "stream",
     "text": [
      "Dante dev:\n"
     ]
    },
    {
     "name": "stderr",
     "output_type": "stream",
     "text": [
      "2024-02-07 14:25:34 INFO \n",
      "Dataset(n_sentences=376, n_batches=8, n_buckets=8)\n",
      "2024-02-07 14:25:34 INFO Evaluating the dataset\n",
      "2024-02-07 14:25:35 INFO loss: 0.5023 - UCM: 42.29% LCM: 17.82% UAS: 92.96% LAS: 86.45%\n",
      "2024-02-07 14:25:35 INFO 0:00:00.835834s elapsed, 449.85 Sents/s\n",
      "2024-02-07 14:25:35 INFO Loading the data\n"
     ]
    },
    {
     "name": "stdout",
     "output_type": "stream",
     "text": [
      "Late dev:\n"
     ]
    },
    {
     "name": "stderr",
     "output_type": "stream",
     "text": [
      "2024-02-07 14:25:36 INFO \n",
      "Dataset(n_sentences=850, n_batches=8, n_buckets=8)\n",
      "2024-02-07 14:25:36 INFO Evaluating the dataset\n",
      "2024-02-07 14:25:38 INFO loss: 0.1065 - UCM: 84.59% LCM: 75.29% UAS: 98.73% LAS: 97.64%\n",
      "2024-02-07 14:25:38 INFO 0:00:01.661290s elapsed, 511.65 Sents/s\n",
      "2024-02-07 14:25:38 INFO Loading the data\n"
     ]
    },
    {
     "name": "stdout",
     "output_type": "stream",
     "text": [
      "Perseus test:\n"
     ]
    },
    {
     "name": "stderr",
     "output_type": "stream",
     "text": [
      "2024-02-07 14:25:38 INFO \n",
      "Dataset(n_sentences=939, n_batches=8, n_buckets=8)\n",
      "2024-02-07 14:25:38 INFO Evaluating the dataset\n",
      "2024-02-07 14:25:39 INFO loss: 0.5619 - UCM: 70.07% LCM: 47.07% UAS: 93.47% LAS: 86.83%\n",
      "2024-02-07 14:25:39 INFO 0:00:01.084739s elapsed, 865.65 Sents/s\n",
      "2024-02-07 14:25:39 INFO Loading the data\n"
     ]
    },
    {
     "name": "stdout",
     "output_type": "stream",
     "text": [
      "PROIEL dev:\n"
     ]
    },
    {
     "name": "stderr",
     "output_type": "stream",
     "text": [
      "2024-02-07 14:25:40 INFO \n",
      "Dataset(n_sentences=1233, n_batches=8, n_buckets=8)\n",
      "2024-02-07 14:25:40 INFO Evaluating the dataset\n",
      "2024-02-07 14:25:41 INFO loss: 0.4200 - UCM: 73.48% LCM: 59.69% UAS: 94.86% LAS: 91.49%\n",
      "2024-02-07 14:25:41 INFO 0:00:01.294438s elapsed, 952.54 Sents/s\n"
     ]
    }
   ],
   "source": [
    "print(\"ITTB dev:\")\n",
    "loss, metric = parser.evaluate(ittb_dev)\n",
    "print(\"Dante dev:\")\n",
    "loss, metric = parser.evaluate(dante_dev)\n",
    "print(\"Late dev:\")\n",
    "loss, metric = parser.evaluate(late_dev)\n",
    "print(\"Perseus test:\")\n",
    "loss, metric = parser.evaluate(perseus_test)\n",
    "print(\"PROIEL dev:\")\n",
    "loss, metric = parser.evaluate(proiel_dev)"
   ]
  },
  {
   "cell_type": "markdown",
   "id": "93e4c038-c15d-490b-b91a-fca7218a5958",
   "metadata": {},
   "source": [
    "Evaluating the same dev sets on the prior state of the art parser:"
   ]
  },
  {
   "cell_type": "code",
   "execution_count": 3,
   "id": "85060cc5-3b69-4ade-8f11-34854ce07f68",
   "metadata": {
    "tags": []
   },
   "outputs": [
    {
     "name": "stdout",
     "output_type": "stream",
     "text": [
      "mlp_size - no sbert 800\n"
     ]
    },
    {
     "name": "stderr",
     "output_type": "stream",
     "text": [
      "Using bos_token, but it is not set yet.\n",
      "Using eos_token, but it is not set yet.\n",
      "2024-02-08 10:11:45 INFO Loading the data\n"
     ]
    },
    {
     "name": "stdout",
     "output_type": "stream",
     "text": [
      "Prior SOTA Parser\n",
      "ITTB dev:\n"
     ]
    },
    {
     "name": "stderr",
     "output_type": "stream",
     "text": [
      "2024-02-08 10:11:47 INFO \n",
      "Dataset(n_sentences=2101, n_batches=9, n_buckets=8)\n",
      "2024-02-08 10:11:47 INFO Evaluating the dataset\n",
      "/scratch/r.behr/llmdetect/detect_venv/lib/python3.11/site-packages/torch/nn/modules/rnn.py:28: UserWarning: apply_permutation is deprecated, please use tensor.index_select(dim, permutation) instead\n",
      "  warnings.warn(\"apply_permutation is deprecated, please use tensor.index_select(dim, permutation) instead\")\n",
      "2024-02-08 10:11:48 INFO loss: 6.7166 - UCM: 42.22% LCM: 11.99% UAS: 82.95% LAS: 67.08%\n",
      "2024-02-08 10:11:48 INFO 0:00:01.565019s elapsed, 1342.48 Sents/s\n",
      "2024-02-08 10:11:48 INFO Loading the data\n"
     ]
    },
    {
     "name": "stdout",
     "output_type": "stream",
     "text": [
      "Dante dev:\n"
     ]
    },
    {
     "name": "stderr",
     "output_type": "stream",
     "text": [
      "2024-02-08 10:11:49 INFO \n",
      "Dataset(n_sentences=376, n_batches=8, n_buckets=8)\n",
      "2024-02-08 10:11:49 INFO Evaluating the dataset\n",
      "2024-02-08 10:11:50 INFO loss: 6.0850 - UCM:  6.65% LCM:  0.00% UAS: 69.66% LAS: 50.99%\n",
      "2024-02-08 10:11:50 INFO 0:00:00.786271s elapsed, 478.21 Sents/s\n",
      "2024-02-08 10:11:50 INFO Loading the data\n"
     ]
    },
    {
     "name": "stdout",
     "output_type": "stream",
     "text": [
      "Late dev:\n"
     ]
    },
    {
     "name": "stderr",
     "output_type": "stream",
     "text": [
      "2024-02-08 10:11:51 INFO \n",
      "Dataset(n_sentences=850, n_batches=8, n_buckets=8)\n",
      "2024-02-08 10:11:51 INFO Evaluating the dataset\n",
      "2024-02-08 10:11:52 INFO loss: 3.6616 - UCM: 32.24% LCM: 15.06% UAS: 90.54% LAS: 85.40%\n",
      "2024-02-08 10:11:52 INFO 0:00:01.081532s elapsed, 785.92 Sents/s\n",
      "2024-02-08 10:11:52 INFO Loading the data\n"
     ]
    },
    {
     "name": "stdout",
     "output_type": "stream",
     "text": [
      "Perseus test:\n"
     ]
    },
    {
     "name": "stderr",
     "output_type": "stream",
     "text": [
      "2024-02-08 10:11:52 INFO \n",
      "Dataset(n_sentences=939, n_batches=8, n_buckets=8)\n",
      "2024-02-08 10:11:52 INFO Evaluating the dataset\n",
      "2024-02-08 10:11:53 INFO loss: 4.5610 - UCM: 22.79% LCM:  4.90% UAS: 63.47% LAS: 44.85%\n",
      "2024-02-08 10:11:53 INFO 0:00:00.664938s elapsed, 1412.16 Sents/s\n",
      "2024-02-08 10:11:53 INFO Loading the data\n"
     ]
    },
    {
     "name": "stdout",
     "output_type": "stream",
     "text": [
      "PROIEL dev:\n"
     ]
    },
    {
     "name": "stderr",
     "output_type": "stream",
     "text": [
      "2024-02-08 10:11:54 INFO \n",
      "Dataset(n_sentences=1233, n_batches=8, n_buckets=8)\n",
      "2024-02-08 10:11:54 INFO Evaluating the dataset\n",
      "2024-02-08 10:11:55 INFO loss: 4.8382 - UCM: 27.41% LCM:  6.65% UAS: 70.25% LAS: 51.31%\n",
      "2024-02-08 10:11:55 INFO 0:00:00.913485s elapsed, 1349.78 Sents/s\n"
     ]
    }
   ],
   "source": [
    "prior_sota_parser = Parser.load(\"la_ittb_llct.mbert\")\n",
    "print(\"Prior SOTA Parser\")\n",
    "print(\"ITTB dev:\")\n",
    "loss, metric = prior_sota_parser.evaluate(ittb_dev)\n",
    "print(\"Dante dev:\")\n",
    "loss, metric = prior_sota_parser.evaluate(dante_dev)\n",
    "print(\"Late dev:\")\n",
    "loss, metric = prior_sota_parser.evaluate(late_dev)\n",
    "print(\"Perseus test:\")\n",
    "loss, metric = prior_sota_parser.evaluate(perseus_test)\n",
    "print(\"PROIEL dev:\")\n",
    "loss, metric = prior_sota_parser.evaluate(proiel_dev)"
   ]
  },
  {
   "cell_type": "markdown",
   "id": "4619e089-4971-47d0-9654-301e5ac26144",
   "metadata": {},
   "source": [
    "Notes:\n",
    "\n"
   ]
  },
  {
   "cell_type": "markdown",
   "id": "d3fa11d8-bc6a-47bc-9699-c15a467d4197",
   "metadata": {},
   "source": [
    "## Predict Test Data"
   ]
  },
  {
   "cell_type": "code",
   "execution_count": 12,
   "id": "068dce96-51c7-4d64-b7b8-ae9a128f8690",
   "metadata": {
    "tags": []
   },
   "outputs": [],
   "source": [
    "test_prose = \"../test_data/EvaLatin_2024_prose-test-data.conllu\"\n",
    "test_poetry = \"../test_data/EvaLatin_2024_poetry_test_data.conllu\"\n",
    "output_prose = \"../test_pred/parsing_EvaLatin_2024_prose-test-data_Behr_1.conllu\"\n",
    "output_poetry = \"../test_pred/parsing_EvaLatin_2024_poetry_test_data_Behr_1.conllu\""
   ]
  },
  {
   "cell_type": "code",
   "execution_count": 13,
   "id": "bba87c8a-e4c9-4504-afb7-afecbabede69",
   "metadata": {
    "tags": []
   },
   "outputs": [
    {
     "data": {
      "text/plain": [
       "Dataset(n_sentences=299, n_batches=8, n_buckets=8)"
      ]
     },
     "execution_count": 13,
     "metadata": {},
     "output_type": "execute_result"
    }
   ],
   "source": [
    "parser.predict(test_prose,pred=output_prose,text=None)"
   ]
  },
  {
   "cell_type": "code",
   "execution_count": 14,
   "id": "297ab939-9f76-4702-aea7-3739d0def66d",
   "metadata": {
    "tags": []
   },
   "outputs": [
    {
     "data": {
      "text/plain": [
       "Dataset(n_sentences=555, n_batches=8, n_buckets=8)"
      ]
     },
     "execution_count": 14,
     "metadata": {},
     "output_type": "execute_result"
    }
   ],
   "source": [
    "parser.predict(test_poetry,pred=output_poetry,text=None)"
   ]
  },
  {
   "cell_type": "code",
   "execution_count": 19,
   "id": "230ac974-2fe4-4860-b2e4-983171b0414f",
   "metadata": {},
   "outputs": [],
   "source": [
    "tmp_sent = \"soror Tonantis hoc enim solum mihi nomen relictum est semper alienum Iouem ac templa summi uidua deserui aetheris locumque caelo pulsa paelicibus dedi tellus colenda est paelices caelum tenent\"\n",
    "dataset = parser.predict(tmp_sent.split(\" \"),probs=True)"
   ]
  },
  {
   "cell_type": "code",
   "execution_count": 22,
   "id": "f80e6ce7-7ebe-4b64-9387-b1ce3d9aff08",
   "metadata": {
    "tags": []
   },
   "outputs": [
    {
     "name": "stdout",
     "output_type": "stream",
     "text": [
      "1\tsoror\t_\t_\t_\t_\t8\tvocative\t_\t_\n",
      "2\tTonantis\t_\t_\t_\t_\t1\tnmod\t_\t_\n",
      "3\thoc\t_\t_\t_\t_\t7\tdet\t_\t_\n",
      "4\tenim\t_\t_\t_\t_\t8\tdiscourse\t_\t_\n",
      "5\tsolum\t_\t_\t_\t_\t7\tamod\t_\t_\n",
      "6\tmihi\t_\t_\t_\t_\t8\tobl\t_\t_\n",
      "7\tnomen\t_\t_\t_\t_\t8\tnsubj:pass\t_\t_\n",
      "8\trelictum\t_\t_\t_\t_\t0\troot\t_\t_\n",
      "9\test\t_\t_\t_\t_\t8\taux:pass\t_\t_\n",
      "10\tsemper\t_\t_\t_\t_\t11\tadvmod\t_\t_\n",
      "11\talienum\t_\t_\t_\t_\t12\tamod\t_\t_\n",
      "12\tIouem\t_\t_\t_\t_\t17\tobj\t_\t_\n",
      "13\tac\t_\t_\t_\t_\t17\tcc\t_\t_\n",
      "14\ttempla\t_\t_\t_\t_\t12\tconj\t_\t_\n",
      "15\tsummi\t_\t_\t_\t_\t18\tamod\t_\t_\n",
      "16\tuidua\t_\t_\t_\t_\t14\tamod\t_\t_\n",
      "17\tdeserui\t_\t_\t_\t_\t8\tconj\t_\t_\n",
      "18\taetheris\t_\t_\t_\t_\t14\tnmod\t_\t_\n",
      "19\tlocumque\t_\t_\t_\t_\t23\tobj\t_\t_\n",
      "20\tcaelo\t_\t_\t_\t_\t21\tobl\t_\t_\n",
      "21\tpulsa\t_\t_\t_\t_\t23\tadvcl\t_\t_\n",
      "22\tpaelicibus\t_\t_\t_\t_\t21\tobl\t_\t_\n",
      "23\tdedi\t_\t_\t_\t_\t8\tconj\t_\t_\n",
      "24\ttellus\t_\t_\t_\t_\t25\tnsubj\t_\t_\n",
      "25\tcolenda\t_\t_\t_\t_\t8\tconj\t_\t_\n",
      "26\test\t_\t_\t_\t_\t25\tcop\t_\t_\n",
      "27\tpaelices\t_\t_\t_\t_\t29\tnsubj\t_\t_\n",
      "28\tcaelum\t_\t_\t_\t_\t29\tobj\t_\t_\n",
      "29\ttenent\t_\t_\t_\t_\t8\tconj\t_\t_\n",
      "\n"
     ]
    },
    {
     "data": {
      "text/html": [
       "<span class=\"tex2jax_ignore\"><svg xmlns=\"http://www.w3.org/2000/svg\" xmlns:xlink=\"http://www.w3.org/1999/xlink\" xml:lang=\"en\" id=\"76304e75d8f84b9b9734f88c6f5adfd6-0\" class=\"displacy\" width=\"3650\" height=\"677.0\" direction=\"ltr\" style=\"max-width: none; height: 677.0px; color: #000000; background: #ffffff; font-family: Arial; direction: ltr\">\n",
       "<text class=\"displacy-token\" fill=\"currentColor\" text-anchor=\"middle\" y=\"587.0\">\n",
       "    <tspan class=\"displacy-word\" fill=\"currentColor\" x=\"50\">ROOT</tspan>\n",
       "    <tspan class=\"displacy-tag\" dy=\"2em\" fill=\"currentColor\" x=\"50\"></tspan>\n",
       "</text>\n",
       "\n",
       "<text class=\"displacy-token\" fill=\"currentColor\" text-anchor=\"middle\" y=\"587.0\">\n",
       "    <tspan class=\"displacy-word\" fill=\"currentColor\" x=\"170\">soror</tspan>\n",
       "    <tspan class=\"displacy-tag\" dy=\"2em\" fill=\"currentColor\" x=\"170\"></tspan>\n",
       "</text>\n",
       "\n",
       "<text class=\"displacy-token\" fill=\"currentColor\" text-anchor=\"middle\" y=\"587.0\">\n",
       "    <tspan class=\"displacy-word\" fill=\"currentColor\" x=\"290\">Tonantis</tspan>\n",
       "    <tspan class=\"displacy-tag\" dy=\"2em\" fill=\"currentColor\" x=\"290\"></tspan>\n",
       "</text>\n",
       "\n",
       "<text class=\"displacy-token\" fill=\"currentColor\" text-anchor=\"middle\" y=\"587.0\">\n",
       "    <tspan class=\"displacy-word\" fill=\"currentColor\" x=\"410\">hoc</tspan>\n",
       "    <tspan class=\"displacy-tag\" dy=\"2em\" fill=\"currentColor\" x=\"410\"></tspan>\n",
       "</text>\n",
       "\n",
       "<text class=\"displacy-token\" fill=\"currentColor\" text-anchor=\"middle\" y=\"587.0\">\n",
       "    <tspan class=\"displacy-word\" fill=\"currentColor\" x=\"530\">enim</tspan>\n",
       "    <tspan class=\"displacy-tag\" dy=\"2em\" fill=\"currentColor\" x=\"530\"></tspan>\n",
       "</text>\n",
       "\n",
       "<text class=\"displacy-token\" fill=\"currentColor\" text-anchor=\"middle\" y=\"587.0\">\n",
       "    <tspan class=\"displacy-word\" fill=\"currentColor\" x=\"650\">solum</tspan>\n",
       "    <tspan class=\"displacy-tag\" dy=\"2em\" fill=\"currentColor\" x=\"650\"></tspan>\n",
       "</text>\n",
       "\n",
       "<text class=\"displacy-token\" fill=\"currentColor\" text-anchor=\"middle\" y=\"587.0\">\n",
       "    <tspan class=\"displacy-word\" fill=\"currentColor\" x=\"770\">mihi</tspan>\n",
       "    <tspan class=\"displacy-tag\" dy=\"2em\" fill=\"currentColor\" x=\"770\"></tspan>\n",
       "</text>\n",
       "\n",
       "<text class=\"displacy-token\" fill=\"currentColor\" text-anchor=\"middle\" y=\"587.0\">\n",
       "    <tspan class=\"displacy-word\" fill=\"currentColor\" x=\"890\">nomen</tspan>\n",
       "    <tspan class=\"displacy-tag\" dy=\"2em\" fill=\"currentColor\" x=\"890\"></tspan>\n",
       "</text>\n",
       "\n",
       "<text class=\"displacy-token\" fill=\"currentColor\" text-anchor=\"middle\" y=\"587.0\">\n",
       "    <tspan class=\"displacy-word\" fill=\"currentColor\" x=\"1010\">relictum</tspan>\n",
       "    <tspan class=\"displacy-tag\" dy=\"2em\" fill=\"currentColor\" x=\"1010\"></tspan>\n",
       "</text>\n",
       "\n",
       "<text class=\"displacy-token\" fill=\"currentColor\" text-anchor=\"middle\" y=\"587.0\">\n",
       "    <tspan class=\"displacy-word\" fill=\"currentColor\" x=\"1130\">est</tspan>\n",
       "    <tspan class=\"displacy-tag\" dy=\"2em\" fill=\"currentColor\" x=\"1130\"></tspan>\n",
       "</text>\n",
       "\n",
       "<text class=\"displacy-token\" fill=\"currentColor\" text-anchor=\"middle\" y=\"587.0\">\n",
       "    <tspan class=\"displacy-word\" fill=\"currentColor\" x=\"1250\">semper</tspan>\n",
       "    <tspan class=\"displacy-tag\" dy=\"2em\" fill=\"currentColor\" x=\"1250\"></tspan>\n",
       "</text>\n",
       "\n",
       "<text class=\"displacy-token\" fill=\"currentColor\" text-anchor=\"middle\" y=\"587.0\">\n",
       "    <tspan class=\"displacy-word\" fill=\"currentColor\" x=\"1370\">alienum</tspan>\n",
       "    <tspan class=\"displacy-tag\" dy=\"2em\" fill=\"currentColor\" x=\"1370\"></tspan>\n",
       "</text>\n",
       "\n",
       "<text class=\"displacy-token\" fill=\"currentColor\" text-anchor=\"middle\" y=\"587.0\">\n",
       "    <tspan class=\"displacy-word\" fill=\"currentColor\" x=\"1490\">Iouem</tspan>\n",
       "    <tspan class=\"displacy-tag\" dy=\"2em\" fill=\"currentColor\" x=\"1490\"></tspan>\n",
       "</text>\n",
       "\n",
       "<text class=\"displacy-token\" fill=\"currentColor\" text-anchor=\"middle\" y=\"587.0\">\n",
       "    <tspan class=\"displacy-word\" fill=\"currentColor\" x=\"1610\">ac</tspan>\n",
       "    <tspan class=\"displacy-tag\" dy=\"2em\" fill=\"currentColor\" x=\"1610\"></tspan>\n",
       "</text>\n",
       "\n",
       "<text class=\"displacy-token\" fill=\"currentColor\" text-anchor=\"middle\" y=\"587.0\">\n",
       "    <tspan class=\"displacy-word\" fill=\"currentColor\" x=\"1730\">templa</tspan>\n",
       "    <tspan class=\"displacy-tag\" dy=\"2em\" fill=\"currentColor\" x=\"1730\"></tspan>\n",
       "</text>\n",
       "\n",
       "<text class=\"displacy-token\" fill=\"currentColor\" text-anchor=\"middle\" y=\"587.0\">\n",
       "    <tspan class=\"displacy-word\" fill=\"currentColor\" x=\"1850\">summi</tspan>\n",
       "    <tspan class=\"displacy-tag\" dy=\"2em\" fill=\"currentColor\" x=\"1850\"></tspan>\n",
       "</text>\n",
       "\n",
       "<text class=\"displacy-token\" fill=\"currentColor\" text-anchor=\"middle\" y=\"587.0\">\n",
       "    <tspan class=\"displacy-word\" fill=\"currentColor\" x=\"1970\">uidua</tspan>\n",
       "    <tspan class=\"displacy-tag\" dy=\"2em\" fill=\"currentColor\" x=\"1970\"></tspan>\n",
       "</text>\n",
       "\n",
       "<text class=\"displacy-token\" fill=\"currentColor\" text-anchor=\"middle\" y=\"587.0\">\n",
       "    <tspan class=\"displacy-word\" fill=\"currentColor\" x=\"2090\">deserui</tspan>\n",
       "    <tspan class=\"displacy-tag\" dy=\"2em\" fill=\"currentColor\" x=\"2090\"></tspan>\n",
       "</text>\n",
       "\n",
       "<text class=\"displacy-token\" fill=\"currentColor\" text-anchor=\"middle\" y=\"587.0\">\n",
       "    <tspan class=\"displacy-word\" fill=\"currentColor\" x=\"2210\">aetheris</tspan>\n",
       "    <tspan class=\"displacy-tag\" dy=\"2em\" fill=\"currentColor\" x=\"2210\"></tspan>\n",
       "</text>\n",
       "\n",
       "<text class=\"displacy-token\" fill=\"currentColor\" text-anchor=\"middle\" y=\"587.0\">\n",
       "    <tspan class=\"displacy-word\" fill=\"currentColor\" x=\"2330\">locumque</tspan>\n",
       "    <tspan class=\"displacy-tag\" dy=\"2em\" fill=\"currentColor\" x=\"2330\"></tspan>\n",
       "</text>\n",
       "\n",
       "<text class=\"displacy-token\" fill=\"currentColor\" text-anchor=\"middle\" y=\"587.0\">\n",
       "    <tspan class=\"displacy-word\" fill=\"currentColor\" x=\"2450\">caelo</tspan>\n",
       "    <tspan class=\"displacy-tag\" dy=\"2em\" fill=\"currentColor\" x=\"2450\"></tspan>\n",
       "</text>\n",
       "\n",
       "<text class=\"displacy-token\" fill=\"currentColor\" text-anchor=\"middle\" y=\"587.0\">\n",
       "    <tspan class=\"displacy-word\" fill=\"currentColor\" x=\"2570\">pulsa</tspan>\n",
       "    <tspan class=\"displacy-tag\" dy=\"2em\" fill=\"currentColor\" x=\"2570\"></tspan>\n",
       "</text>\n",
       "\n",
       "<text class=\"displacy-token\" fill=\"currentColor\" text-anchor=\"middle\" y=\"587.0\">\n",
       "    <tspan class=\"displacy-word\" fill=\"currentColor\" x=\"2690\">paelicibus</tspan>\n",
       "    <tspan class=\"displacy-tag\" dy=\"2em\" fill=\"currentColor\" x=\"2690\"></tspan>\n",
       "</text>\n",
       "\n",
       "<text class=\"displacy-token\" fill=\"currentColor\" text-anchor=\"middle\" y=\"587.0\">\n",
       "    <tspan class=\"displacy-word\" fill=\"currentColor\" x=\"2810\">dedi</tspan>\n",
       "    <tspan class=\"displacy-tag\" dy=\"2em\" fill=\"currentColor\" x=\"2810\"></tspan>\n",
       "</text>\n",
       "\n",
       "<text class=\"displacy-token\" fill=\"currentColor\" text-anchor=\"middle\" y=\"587.0\">\n",
       "    <tspan class=\"displacy-word\" fill=\"currentColor\" x=\"2930\">tellus</tspan>\n",
       "    <tspan class=\"displacy-tag\" dy=\"2em\" fill=\"currentColor\" x=\"2930\"></tspan>\n",
       "</text>\n",
       "\n",
       "<text class=\"displacy-token\" fill=\"currentColor\" text-anchor=\"middle\" y=\"587.0\">\n",
       "    <tspan class=\"displacy-word\" fill=\"currentColor\" x=\"3050\">colenda</tspan>\n",
       "    <tspan class=\"displacy-tag\" dy=\"2em\" fill=\"currentColor\" x=\"3050\"></tspan>\n",
       "</text>\n",
       "\n",
       "<text class=\"displacy-token\" fill=\"currentColor\" text-anchor=\"middle\" y=\"587.0\">\n",
       "    <tspan class=\"displacy-word\" fill=\"currentColor\" x=\"3170\">est</tspan>\n",
       "    <tspan class=\"displacy-tag\" dy=\"2em\" fill=\"currentColor\" x=\"3170\"></tspan>\n",
       "</text>\n",
       "\n",
       "<text class=\"displacy-token\" fill=\"currentColor\" text-anchor=\"middle\" y=\"587.0\">\n",
       "    <tspan class=\"displacy-word\" fill=\"currentColor\" x=\"3290\">paelices</tspan>\n",
       "    <tspan class=\"displacy-tag\" dy=\"2em\" fill=\"currentColor\" x=\"3290\"></tspan>\n",
       "</text>\n",
       "\n",
       "<text class=\"displacy-token\" fill=\"currentColor\" text-anchor=\"middle\" y=\"587.0\">\n",
       "    <tspan class=\"displacy-word\" fill=\"currentColor\" x=\"3410\">caelum</tspan>\n",
       "    <tspan class=\"displacy-tag\" dy=\"2em\" fill=\"currentColor\" x=\"3410\"></tspan>\n",
       "</text>\n",
       "\n",
       "<text class=\"displacy-token\" fill=\"currentColor\" text-anchor=\"middle\" y=\"587.0\">\n",
       "    <tspan class=\"displacy-word\" fill=\"currentColor\" x=\"3530\">tenent</tspan>\n",
       "    <tspan class=\"displacy-tag\" dy=\"2em\" fill=\"currentColor\" x=\"3530\"></tspan>\n",
       "</text>\n",
       "\n",
       "<g class=\"displacy-arrow\">\n",
       "    <path class=\"displacy-arc\" id=\"arrow-76304e75d8f84b9b9734f88c6f5adfd6-0-0\" stroke-width=\"2px\" d=\"M182,542.0 182,442.0 998.0,442.0 998.0,542.0\" fill=\"none\" stroke=\"currentColor\"/>\n",
       "    <text dy=\"1.25em\" style=\"font-size: 0.8em; letter-spacing: 1px\">\n",
       "        <textPath xlink:href=\"#arrow-76304e75d8f84b9b9734f88c6f5adfd6-0-0\" class=\"displacy-label\" startOffset=\"50%\" side=\"left\" fill=\"currentColor\" text-anchor=\"middle\">vocative</textPath>\n",
       "    </text>\n",
       "    <path class=\"displacy-arrowhead\" d=\"M182,544.0 L178,536.0 186,536.0\" fill=\"currentColor\"/>\n",
       "</g>\n",
       "\n",
       "<g class=\"displacy-arrow\">\n",
       "    <path class=\"displacy-arc\" id=\"arrow-76304e75d8f84b9b9734f88c6f5adfd6-0-1\" stroke-width=\"2px\" d=\"M182,542.0 182,522.0 266.0,522.0 266.0,542.0\" fill=\"none\" stroke=\"currentColor\"/>\n",
       "    <text dy=\"1.25em\" style=\"font-size: 0.8em; letter-spacing: 1px\">\n",
       "        <textPath xlink:href=\"#arrow-76304e75d8f84b9b9734f88c6f5adfd6-0-1\" class=\"displacy-label\" startOffset=\"50%\" side=\"left\" fill=\"currentColor\" text-anchor=\"middle\">nmod</textPath>\n",
       "    </text>\n",
       "    <path class=\"displacy-arrowhead\" d=\"M266.0,544.0 L270.0,536.0 262.0,536.0\" fill=\"currentColor\"/>\n",
       "</g>\n",
       "\n",
       "<g class=\"displacy-arrow\">\n",
       "    <path class=\"displacy-arc\" id=\"arrow-76304e75d8f84b9b9734f88c6f5adfd6-0-2\" stroke-width=\"2px\" d=\"M422,542.0 422,482.0 872.0,482.0 872.0,542.0\" fill=\"none\" stroke=\"currentColor\"/>\n",
       "    <text dy=\"1.25em\" style=\"font-size: 0.8em; letter-spacing: 1px\">\n",
       "        <textPath xlink:href=\"#arrow-76304e75d8f84b9b9734f88c6f5adfd6-0-2\" class=\"displacy-label\" startOffset=\"50%\" side=\"left\" fill=\"currentColor\" text-anchor=\"middle\">det</textPath>\n",
       "    </text>\n",
       "    <path class=\"displacy-arrowhead\" d=\"M422,544.0 L418,536.0 426,536.0\" fill=\"currentColor\"/>\n",
       "</g>\n",
       "\n",
       "<g class=\"displacy-arrow\">\n",
       "    <path class=\"displacy-arc\" id=\"arrow-76304e75d8f84b9b9734f88c6f5adfd6-0-3\" stroke-width=\"2px\" d=\"M542,542.0 542,462.0 995.0,462.0 995.0,542.0\" fill=\"none\" stroke=\"currentColor\"/>\n",
       "    <text dy=\"1.25em\" style=\"font-size: 0.8em; letter-spacing: 1px\">\n",
       "        <textPath xlink:href=\"#arrow-76304e75d8f84b9b9734f88c6f5adfd6-0-3\" class=\"displacy-label\" startOffset=\"50%\" side=\"left\" fill=\"currentColor\" text-anchor=\"middle\">discourse</textPath>\n",
       "    </text>\n",
       "    <path class=\"displacy-arrowhead\" d=\"M542,544.0 L538,536.0 546,536.0\" fill=\"currentColor\"/>\n",
       "</g>\n",
       "\n",
       "<g class=\"displacy-arrow\">\n",
       "    <path class=\"displacy-arc\" id=\"arrow-76304e75d8f84b9b9734f88c6f5adfd6-0-4\" stroke-width=\"2px\" d=\"M662,542.0 662,522.0 866.0,522.0 866.0,542.0\" fill=\"none\" stroke=\"currentColor\"/>\n",
       "    <text dy=\"1.25em\" style=\"font-size: 0.8em; letter-spacing: 1px\">\n",
       "        <textPath xlink:href=\"#arrow-76304e75d8f84b9b9734f88c6f5adfd6-0-4\" class=\"displacy-label\" startOffset=\"50%\" side=\"left\" fill=\"currentColor\" text-anchor=\"middle\">amod</textPath>\n",
       "    </text>\n",
       "    <path class=\"displacy-arrowhead\" d=\"M662,544.0 L658,536.0 666,536.0\" fill=\"currentColor\"/>\n",
       "</g>\n",
       "\n",
       "<g class=\"displacy-arrow\">\n",
       "    <path class=\"displacy-arc\" id=\"arrow-76304e75d8f84b9b9734f88c6f5adfd6-0-5\" stroke-width=\"2px\" d=\"M782,542.0 782,502.0 989.0,502.0 989.0,542.0\" fill=\"none\" stroke=\"currentColor\"/>\n",
       "    <text dy=\"1.25em\" style=\"font-size: 0.8em; letter-spacing: 1px\">\n",
       "        <textPath xlink:href=\"#arrow-76304e75d8f84b9b9734f88c6f5adfd6-0-5\" class=\"displacy-label\" startOffset=\"50%\" side=\"left\" fill=\"currentColor\" text-anchor=\"middle\">obl</textPath>\n",
       "    </text>\n",
       "    <path class=\"displacy-arrowhead\" d=\"M782,544.0 L778,536.0 786,536.0\" fill=\"currentColor\"/>\n",
       "</g>\n",
       "\n",
       "<g class=\"displacy-arrow\">\n",
       "    <path class=\"displacy-arc\" id=\"arrow-76304e75d8f84b9b9734f88c6f5adfd6-0-6\" stroke-width=\"2px\" d=\"M902,542.0 902,522.0 986.0,522.0 986.0,542.0\" fill=\"none\" stroke=\"currentColor\"/>\n",
       "    <text dy=\"1.25em\" style=\"font-size: 0.8em; letter-spacing: 1px\">\n",
       "        <textPath xlink:href=\"#arrow-76304e75d8f84b9b9734f88c6f5adfd6-0-6\" class=\"displacy-label\" startOffset=\"50%\" side=\"left\" fill=\"currentColor\" text-anchor=\"middle\">nsubj:pass</textPath>\n",
       "    </text>\n",
       "    <path class=\"displacy-arrowhead\" d=\"M902,544.0 L898,536.0 906,536.0\" fill=\"currentColor\"/>\n",
       "</g>\n",
       "\n",
       "<g class=\"displacy-arrow\">\n",
       "    <path class=\"displacy-arc\" id=\"arrow-76304e75d8f84b9b9734f88c6f5adfd6-0-7\" stroke-width=\"2px\" d=\"M62,542.0 62,422.0 1001.0,422.0 1001.0,542.0\" fill=\"none\" stroke=\"currentColor\"/>\n",
       "    <text dy=\"1.25em\" style=\"font-size: 0.8em; letter-spacing: 1px\">\n",
       "        <textPath xlink:href=\"#arrow-76304e75d8f84b9b9734f88c6f5adfd6-0-7\" class=\"displacy-label\" startOffset=\"50%\" side=\"left\" fill=\"currentColor\" text-anchor=\"middle\">root</textPath>\n",
       "    </text>\n",
       "    <path class=\"displacy-arrowhead\" d=\"M1001.0,544.0 L1005.0,536.0 997.0,536.0\" fill=\"currentColor\"/>\n",
       "</g>\n",
       "\n",
       "<g class=\"displacy-arrow\">\n",
       "    <path class=\"displacy-arc\" id=\"arrow-76304e75d8f84b9b9734f88c6f5adfd6-0-8\" stroke-width=\"2px\" d=\"M1022,542.0 1022,522.0 1106.0,522.0 1106.0,542.0\" fill=\"none\" stroke=\"currentColor\"/>\n",
       "    <text dy=\"1.25em\" style=\"font-size: 0.8em; letter-spacing: 1px\">\n",
       "        <textPath xlink:href=\"#arrow-76304e75d8f84b9b9734f88c6f5adfd6-0-8\" class=\"displacy-label\" startOffset=\"50%\" side=\"left\" fill=\"currentColor\" text-anchor=\"middle\">aux:pass</textPath>\n",
       "    </text>\n",
       "    <path class=\"displacy-arrowhead\" d=\"M1106.0,544.0 L1110.0,536.0 1102.0,536.0\" fill=\"currentColor\"/>\n",
       "</g>\n",
       "\n",
       "<g class=\"displacy-arrow\">\n",
       "    <path class=\"displacy-arc\" id=\"arrow-76304e75d8f84b9b9734f88c6f5adfd6-0-9\" stroke-width=\"2px\" d=\"M1262,542.0 1262,522.0 1346.0,522.0 1346.0,542.0\" fill=\"none\" stroke=\"currentColor\"/>\n",
       "    <text dy=\"1.25em\" style=\"font-size: 0.8em; letter-spacing: 1px\">\n",
       "        <textPath xlink:href=\"#arrow-76304e75d8f84b9b9734f88c6f5adfd6-0-9\" class=\"displacy-label\" startOffset=\"50%\" side=\"left\" fill=\"currentColor\" text-anchor=\"middle\">advmod</textPath>\n",
       "    </text>\n",
       "    <path class=\"displacy-arrowhead\" d=\"M1262,544.0 L1258,536.0 1266,536.0\" fill=\"currentColor\"/>\n",
       "</g>\n",
       "\n",
       "<g class=\"displacy-arrow\">\n",
       "    <path class=\"displacy-arc\" id=\"arrow-76304e75d8f84b9b9734f88c6f5adfd6-0-10\" stroke-width=\"2px\" d=\"M1382,542.0 1382,522.0 1466.0,522.0 1466.0,542.0\" fill=\"none\" stroke=\"currentColor\"/>\n",
       "    <text dy=\"1.25em\" style=\"font-size: 0.8em; letter-spacing: 1px\">\n",
       "        <textPath xlink:href=\"#arrow-76304e75d8f84b9b9734f88c6f5adfd6-0-10\" class=\"displacy-label\" startOffset=\"50%\" side=\"left\" fill=\"currentColor\" text-anchor=\"middle\">amod</textPath>\n",
       "    </text>\n",
       "    <path class=\"displacy-arrowhead\" d=\"M1382,544.0 L1378,536.0 1386,536.0\" fill=\"currentColor\"/>\n",
       "</g>\n",
       "\n",
       "<g class=\"displacy-arrow\">\n",
       "    <path class=\"displacy-arc\" id=\"arrow-76304e75d8f84b9b9734f88c6f5adfd6-0-11\" stroke-width=\"2px\" d=\"M1502,542.0 1502,442.0 2078.0,442.0 2078.0,542.0\" fill=\"none\" stroke=\"currentColor\"/>\n",
       "    <text dy=\"1.25em\" style=\"font-size: 0.8em; letter-spacing: 1px\">\n",
       "        <textPath xlink:href=\"#arrow-76304e75d8f84b9b9734f88c6f5adfd6-0-11\" class=\"displacy-label\" startOffset=\"50%\" side=\"left\" fill=\"currentColor\" text-anchor=\"middle\">obj</textPath>\n",
       "    </text>\n",
       "    <path class=\"displacy-arrowhead\" d=\"M1502,544.0 L1498,536.0 1506,536.0\" fill=\"currentColor\"/>\n",
       "</g>\n",
       "\n",
       "<g class=\"displacy-arrow\">\n",
       "    <path class=\"displacy-arc\" id=\"arrow-76304e75d8f84b9b9734f88c6f5adfd6-0-12\" stroke-width=\"2px\" d=\"M1622,542.0 1622,482.0 2072.0,482.0 2072.0,542.0\" fill=\"none\" stroke=\"currentColor\"/>\n",
       "    <text dy=\"1.25em\" style=\"font-size: 0.8em; letter-spacing: 1px\">\n",
       "        <textPath xlink:href=\"#arrow-76304e75d8f84b9b9734f88c6f5adfd6-0-12\" class=\"displacy-label\" startOffset=\"50%\" side=\"left\" fill=\"currentColor\" text-anchor=\"middle\">cc</textPath>\n",
       "    </text>\n",
       "    <path class=\"displacy-arrowhead\" d=\"M1622,544.0 L1618,536.0 1626,536.0\" fill=\"currentColor\"/>\n",
       "</g>\n",
       "\n",
       "<g class=\"displacy-arrow\">\n",
       "    <path class=\"displacy-arc\" id=\"arrow-76304e75d8f84b9b9734f88c6f5adfd6-0-13\" stroke-width=\"2px\" d=\"M1502,542.0 1502,522.0 1706.0,522.0 1706.0,542.0\" fill=\"none\" stroke=\"currentColor\"/>\n",
       "    <text dy=\"1.25em\" style=\"font-size: 0.8em; letter-spacing: 1px\">\n",
       "        <textPath xlink:href=\"#arrow-76304e75d8f84b9b9734f88c6f5adfd6-0-13\" class=\"displacy-label\" startOffset=\"50%\" side=\"left\" fill=\"currentColor\" text-anchor=\"middle\">conj</textPath>\n",
       "    </text>\n",
       "    <path class=\"displacy-arrowhead\" d=\"M1706.0,544.0 L1710.0,536.0 1702.0,536.0\" fill=\"currentColor\"/>\n",
       "</g>\n",
       "\n",
       "<g class=\"displacy-arrow\">\n",
       "    <path class=\"displacy-arc\" id=\"arrow-76304e75d8f84b9b9734f88c6f5adfd6-0-14\" stroke-width=\"2px\" d=\"M1862,542.0 1862,502.0 2189.0,502.0 2189.0,542.0\" fill=\"none\" stroke=\"currentColor\"/>\n",
       "    <text dy=\"1.25em\" style=\"font-size: 0.8em; letter-spacing: 1px\">\n",
       "        <textPath xlink:href=\"#arrow-76304e75d8f84b9b9734f88c6f5adfd6-0-14\" class=\"displacy-label\" startOffset=\"50%\" side=\"left\" fill=\"currentColor\" text-anchor=\"middle\">amod</textPath>\n",
       "    </text>\n",
       "    <path class=\"displacy-arrowhead\" d=\"M1862,544.0 L1858,536.0 1866,536.0\" fill=\"currentColor\"/>\n",
       "</g>\n",
       "\n",
       "<g class=\"displacy-arrow\">\n",
       "    <path class=\"displacy-arc\" id=\"arrow-76304e75d8f84b9b9734f88c6f5adfd6-0-15\" stroke-width=\"2px\" d=\"M1742,542.0 1742,522.0 1946.0,522.0 1946.0,542.0\" fill=\"none\" stroke=\"currentColor\"/>\n",
       "    <text dy=\"1.25em\" style=\"font-size: 0.8em; letter-spacing: 1px\">\n",
       "        <textPath xlink:href=\"#arrow-76304e75d8f84b9b9734f88c6f5adfd6-0-15\" class=\"displacy-label\" startOffset=\"50%\" side=\"left\" fill=\"currentColor\" text-anchor=\"middle\">amod</textPath>\n",
       "    </text>\n",
       "    <path class=\"displacy-arrowhead\" d=\"M1946.0,544.0 L1950.0,536.0 1942.0,536.0\" fill=\"currentColor\"/>\n",
       "</g>\n",
       "\n",
       "<g class=\"displacy-arrow\">\n",
       "    <path class=\"displacy-arc\" id=\"arrow-76304e75d8f84b9b9734f88c6f5adfd6-0-16\" stroke-width=\"2px\" d=\"M1022,542.0 1022,422.0 2081.0,422.0 2081.0,542.0\" fill=\"none\" stroke=\"currentColor\"/>\n",
       "    <text dy=\"1.25em\" style=\"font-size: 0.8em; letter-spacing: 1px\">\n",
       "        <textPath xlink:href=\"#arrow-76304e75d8f84b9b9734f88c6f5adfd6-0-16\" class=\"displacy-label\" startOffset=\"50%\" side=\"left\" fill=\"currentColor\" text-anchor=\"middle\">conj</textPath>\n",
       "    </text>\n",
       "    <path class=\"displacy-arrowhead\" d=\"M2081.0,544.0 L2085.0,536.0 2077.0,536.0\" fill=\"currentColor\"/>\n",
       "</g>\n",
       "\n",
       "<g class=\"displacy-arrow\">\n",
       "    <path class=\"displacy-arc\" id=\"arrow-76304e75d8f84b9b9734f88c6f5adfd6-0-17\" stroke-width=\"2px\" d=\"M1742,542.0 1742,462.0 2195.0,462.0 2195.0,542.0\" fill=\"none\" stroke=\"currentColor\"/>\n",
       "    <text dy=\"1.25em\" style=\"font-size: 0.8em; letter-spacing: 1px\">\n",
       "        <textPath xlink:href=\"#arrow-76304e75d8f84b9b9734f88c6f5adfd6-0-17\" class=\"displacy-label\" startOffset=\"50%\" side=\"left\" fill=\"currentColor\" text-anchor=\"middle\">nmod</textPath>\n",
       "    </text>\n",
       "    <path class=\"displacy-arrowhead\" d=\"M2195.0,544.0 L2199.0,536.0 2191.0,536.0\" fill=\"currentColor\"/>\n",
       "</g>\n",
       "\n",
       "<g class=\"displacy-arrow\">\n",
       "    <path class=\"displacy-arc\" id=\"arrow-76304e75d8f84b9b9734f88c6f5adfd6-0-18\" stroke-width=\"2px\" d=\"M2342,542.0 2342,482.0 2792.0,482.0 2792.0,542.0\" fill=\"none\" stroke=\"currentColor\"/>\n",
       "    <text dy=\"1.25em\" style=\"font-size: 0.8em; letter-spacing: 1px\">\n",
       "        <textPath xlink:href=\"#arrow-76304e75d8f84b9b9734f88c6f5adfd6-0-18\" class=\"displacy-label\" startOffset=\"50%\" side=\"left\" fill=\"currentColor\" text-anchor=\"middle\">obj</textPath>\n",
       "    </text>\n",
       "    <path class=\"displacy-arrowhead\" d=\"M2342,544.0 L2338,536.0 2346,536.0\" fill=\"currentColor\"/>\n",
       "</g>\n",
       "\n",
       "<g class=\"displacy-arrow\">\n",
       "    <path class=\"displacy-arc\" id=\"arrow-76304e75d8f84b9b9734f88c6f5adfd6-0-19\" stroke-width=\"2px\" d=\"M2462,542.0 2462,522.0 2546.0,522.0 2546.0,542.0\" fill=\"none\" stroke=\"currentColor\"/>\n",
       "    <text dy=\"1.25em\" style=\"font-size: 0.8em; letter-spacing: 1px\">\n",
       "        <textPath xlink:href=\"#arrow-76304e75d8f84b9b9734f88c6f5adfd6-0-19\" class=\"displacy-label\" startOffset=\"50%\" side=\"left\" fill=\"currentColor\" text-anchor=\"middle\">obl</textPath>\n",
       "    </text>\n",
       "    <path class=\"displacy-arrowhead\" d=\"M2462,544.0 L2458,536.0 2466,536.0\" fill=\"currentColor\"/>\n",
       "</g>\n",
       "\n",
       "<g class=\"displacy-arrow\">\n",
       "    <path class=\"displacy-arc\" id=\"arrow-76304e75d8f84b9b9734f88c6f5adfd6-0-20\" stroke-width=\"2px\" d=\"M2582,542.0 2582,502.0 2789.0,502.0 2789.0,542.0\" fill=\"none\" stroke=\"currentColor\"/>\n",
       "    <text dy=\"1.25em\" style=\"font-size: 0.8em; letter-spacing: 1px\">\n",
       "        <textPath xlink:href=\"#arrow-76304e75d8f84b9b9734f88c6f5adfd6-0-20\" class=\"displacy-label\" startOffset=\"50%\" side=\"left\" fill=\"currentColor\" text-anchor=\"middle\">advcl</textPath>\n",
       "    </text>\n",
       "    <path class=\"displacy-arrowhead\" d=\"M2582,544.0 L2578,536.0 2586,536.0\" fill=\"currentColor\"/>\n",
       "</g>\n",
       "\n",
       "<g class=\"displacy-arrow\">\n",
       "    <path class=\"displacy-arc\" id=\"arrow-76304e75d8f84b9b9734f88c6f5adfd6-0-21\" stroke-width=\"2px\" d=\"M2582,542.0 2582,522.0 2666.0,522.0 2666.0,542.0\" fill=\"none\" stroke=\"currentColor\"/>\n",
       "    <text dy=\"1.25em\" style=\"font-size: 0.8em; letter-spacing: 1px\">\n",
       "        <textPath xlink:href=\"#arrow-76304e75d8f84b9b9734f88c6f5adfd6-0-21\" class=\"displacy-label\" startOffset=\"50%\" side=\"left\" fill=\"currentColor\" text-anchor=\"middle\">obl</textPath>\n",
       "    </text>\n",
       "    <path class=\"displacy-arrowhead\" d=\"M2666.0,544.0 L2670.0,536.0 2662.0,536.0\" fill=\"currentColor\"/>\n",
       "</g>\n",
       "\n",
       "<g class=\"displacy-arrow\">\n",
       "    <path class=\"displacy-arc\" id=\"arrow-76304e75d8f84b9b9734f88c6f5adfd6-0-22\" stroke-width=\"2px\" d=\"M1022,542.0 1022,402.0 2804.0,402.0 2804.0,542.0\" fill=\"none\" stroke=\"currentColor\"/>\n",
       "    <text dy=\"1.25em\" style=\"font-size: 0.8em; letter-spacing: 1px\">\n",
       "        <textPath xlink:href=\"#arrow-76304e75d8f84b9b9734f88c6f5adfd6-0-22\" class=\"displacy-label\" startOffset=\"50%\" side=\"left\" fill=\"currentColor\" text-anchor=\"middle\">conj</textPath>\n",
       "    </text>\n",
       "    <path class=\"displacy-arrowhead\" d=\"M2804.0,544.0 L2808.0,536.0 2800.0,536.0\" fill=\"currentColor\"/>\n",
       "</g>\n",
       "\n",
       "<g class=\"displacy-arrow\">\n",
       "    <path class=\"displacy-arc\" id=\"arrow-76304e75d8f84b9b9734f88c6f5adfd6-0-23\" stroke-width=\"2px\" d=\"M2942,542.0 2942,522.0 3026.0,522.0 3026.0,542.0\" fill=\"none\" stroke=\"currentColor\"/>\n",
       "    <text dy=\"1.25em\" style=\"font-size: 0.8em; letter-spacing: 1px\">\n",
       "        <textPath xlink:href=\"#arrow-76304e75d8f84b9b9734f88c6f5adfd6-0-23\" class=\"displacy-label\" startOffset=\"50%\" side=\"left\" fill=\"currentColor\" text-anchor=\"middle\">nsubj</textPath>\n",
       "    </text>\n",
       "    <path class=\"displacy-arrowhead\" d=\"M2942,544.0 L2938,536.0 2946,536.0\" fill=\"currentColor\"/>\n",
       "</g>\n",
       "\n",
       "<g class=\"displacy-arrow\">\n",
       "    <path class=\"displacy-arc\" id=\"arrow-76304e75d8f84b9b9734f88c6f5adfd6-0-24\" stroke-width=\"2px\" d=\"M1022,542.0 1022,382.0 3047.0,382.0 3047.0,542.0\" fill=\"none\" stroke=\"currentColor\"/>\n",
       "    <text dy=\"1.25em\" style=\"font-size: 0.8em; letter-spacing: 1px\">\n",
       "        <textPath xlink:href=\"#arrow-76304e75d8f84b9b9734f88c6f5adfd6-0-24\" class=\"displacy-label\" startOffset=\"50%\" side=\"left\" fill=\"currentColor\" text-anchor=\"middle\">conj</textPath>\n",
       "    </text>\n",
       "    <path class=\"displacy-arrowhead\" d=\"M3047.0,544.0 L3051.0,536.0 3043.0,536.0\" fill=\"currentColor\"/>\n",
       "</g>\n",
       "\n",
       "<g class=\"displacy-arrow\">\n",
       "    <path class=\"displacy-arc\" id=\"arrow-76304e75d8f84b9b9734f88c6f5adfd6-0-25\" stroke-width=\"2px\" d=\"M3062,542.0 3062,522.0 3146.0,522.0 3146.0,542.0\" fill=\"none\" stroke=\"currentColor\"/>\n",
       "    <text dy=\"1.25em\" style=\"font-size: 0.8em; letter-spacing: 1px\">\n",
       "        <textPath xlink:href=\"#arrow-76304e75d8f84b9b9734f88c6f5adfd6-0-25\" class=\"displacy-label\" startOffset=\"50%\" side=\"left\" fill=\"currentColor\" text-anchor=\"middle\">cop</textPath>\n",
       "    </text>\n",
       "    <path class=\"displacy-arrowhead\" d=\"M3146.0,544.0 L3150.0,536.0 3142.0,536.0\" fill=\"currentColor\"/>\n",
       "</g>\n",
       "\n",
       "<g class=\"displacy-arrow\">\n",
       "    <path class=\"displacy-arc\" id=\"arrow-76304e75d8f84b9b9734f88c6f5adfd6-0-26\" stroke-width=\"2px\" d=\"M3302,542.0 3302,502.0 3509.0,502.0 3509.0,542.0\" fill=\"none\" stroke=\"currentColor\"/>\n",
       "    <text dy=\"1.25em\" style=\"font-size: 0.8em; letter-spacing: 1px\">\n",
       "        <textPath xlink:href=\"#arrow-76304e75d8f84b9b9734f88c6f5adfd6-0-26\" class=\"displacy-label\" startOffset=\"50%\" side=\"left\" fill=\"currentColor\" text-anchor=\"middle\">nsubj</textPath>\n",
       "    </text>\n",
       "    <path class=\"displacy-arrowhead\" d=\"M3302,544.0 L3298,536.0 3306,536.0\" fill=\"currentColor\"/>\n",
       "</g>\n",
       "\n",
       "<g class=\"displacy-arrow\">\n",
       "    <path class=\"displacy-arc\" id=\"arrow-76304e75d8f84b9b9734f88c6f5adfd6-0-27\" stroke-width=\"2px\" d=\"M3422,542.0 3422,522.0 3506.0,522.0 3506.0,542.0\" fill=\"none\" stroke=\"currentColor\"/>\n",
       "    <text dy=\"1.25em\" style=\"font-size: 0.8em; letter-spacing: 1px\">\n",
       "        <textPath xlink:href=\"#arrow-76304e75d8f84b9b9734f88c6f5adfd6-0-27\" class=\"displacy-label\" startOffset=\"50%\" side=\"left\" fill=\"currentColor\" text-anchor=\"middle\">obj</textPath>\n",
       "    </text>\n",
       "    <path class=\"displacy-arrowhead\" d=\"M3422,544.0 L3418,536.0 3426,536.0\" fill=\"currentColor\"/>\n",
       "</g>\n",
       "\n",
       "<g class=\"displacy-arrow\">\n",
       "    <path class=\"displacy-arc\" id=\"arrow-76304e75d8f84b9b9734f88c6f5adfd6-0-28\" stroke-width=\"2px\" d=\"M1022,542.0 1022,362.0 3530.0,362.0 3530.0,542.0\" fill=\"none\" stroke=\"currentColor\"/>\n",
       "    <text dy=\"1.25em\" style=\"font-size: 0.8em; letter-spacing: 1px\">\n",
       "        <textPath xlink:href=\"#arrow-76304e75d8f84b9b9734f88c6f5adfd6-0-28\" class=\"displacy-label\" startOffset=\"50%\" side=\"left\" fill=\"currentColor\" text-anchor=\"middle\">conj</textPath>\n",
       "    </text>\n",
       "    <path class=\"displacy-arrowhead\" d=\"M3530.0,544.0 L3534.0,536.0 3526.0,536.0\" fill=\"currentColor\"/>\n",
       "</g>\n",
       "</svg></span>"
      ],
      "text/plain": [
       "<IPython.core.display.HTML object>"
      ]
     },
     "metadata": {},
     "output_type": "display_data"
    }
   ],
   "source": [
    "sent = dataset.sentences[0]\n",
    "print(sent)\n",
    "displacy.render(sent.to_displacy(), style='dep', manual=True, options={'compact': True, 'distance': 120})"
   ]
  },
  {
   "cell_type": "code",
   "execution_count": null,
   "id": "411cc450-a384-41c9-9b62-3a824c03f9cb",
   "metadata": {},
   "outputs": [],
   "source": []
  },
  {
   "cell_type": "markdown",
   "id": "2c49ddbe-cc6d-4337-a97a-e6356235822c",
   "metadata": {},
   "source": [
    "## Evaluation of Dev Data\n"
   ]
  },
  {
   "cell_type": "code",
   "execution_count": 2,
   "id": "2ccd2f33-92d8-458e-af0e-38a174c1196e",
   "metadata": {
    "tags": []
   },
   "outputs": [],
   "source": [
    "model_path = \"./exp/sbert-combined-sbatch/model\""
   ]
  },
  {
   "cell_type": "code",
   "execution_count": 3,
   "id": "0ae4e4fe-e5c2-4a9f-b26e-d894096b5d01",
   "metadata": {
    "tags": []
   },
   "outputs": [],
   "source": [
    "combined_dev = \"../combined/dev.conllu\""
   ]
  },
  {
   "cell_type": "code",
   "execution_count": 4,
   "id": "21e18192-eafa-4bef-917c-dacdb5ed9cf2",
   "metadata": {
    "tags": []
   },
   "outputs": [
    {
     "name": "stderr",
     "output_type": "stream",
     "text": [
      "Using bos_token, but it is not set yet.\n",
      "Using eos_token, but it is not set yet.\n"
     ]
    },
    {
     "name": "stdout",
     "output_type": "stream",
     "text": [
      "mlp_size - no sbert 800\n",
      "with sbert 1056\n"
     ]
    },
    {
     "name": "stderr",
     "output_type": "stream",
     "text": [
      "Using bos_token, but it is not set yet.\n",
      "Using eos_token, but it is not set yet.\n"
     ]
    }
   ],
   "source": [
    "parser = Parser.load(model_path)"
   ]
  },
  {
   "cell_type": "code",
   "execution_count": 5,
   "id": "d5db5deb-49e9-4db5-a5e0-3089ba4c7ef5",
   "metadata": {},
   "outputs": [
    {
     "name": "stderr",
     "output_type": "stream",
     "text": [
      "2024-02-13 15:08:15 INFO Loading the data\n",
      "2024-02-13 15:08:23 INFO \n",
      "Dataset(n_sentences=8984, n_batches=34, n_buckets=8)\n",
      "2024-02-13 15:08:23 INFO Evaluating the dataset\n",
      "/scratch/r.behr/llmdetect/detect_venv/lib/python3.11/site-packages/torch/nn/modules/rnn.py:28: UserWarning: apply_permutation is deprecated, please use tensor.index_select(dim, permutation) instead\n",
      "  warnings.warn(\"apply_permutation is deprecated, please use tensor.index_select(dim, permutation) instead\")\n",
      "2024-02-13 15:08:35 INFO loss: 0.4774 - UCM: 60.72% LCM: 46.42% UAS: 92.91% LAS: 89.37%\n",
      "2024-02-13 15:08:35 INFO 0:00:11.070687s elapsed, 811.51 Sents/s\n"
     ]
    }
   ],
   "source": [
    "loss, metric = parser.evaluate(combined_dev)"
   ]
  },
  {
   "cell_type": "code",
   "execution_count": 6,
   "id": "8ebc4642-f6f4-4ce7-94a0-f724587d1ee6",
   "metadata": {
    "tags": []
   },
   "outputs": [
    {
     "name": "stdout",
     "output_type": "stream",
     "text": [
      "mlp_size - no sbert 800\n"
     ]
    },
    {
     "name": "stderr",
     "output_type": "stream",
     "text": [
      "Using bos_token, but it is not set yet.\n",
      "Using eos_token, but it is not set yet.\n"
     ]
    }
   ],
   "source": [
    "second_parser = Parser.load('la_ittb_llct.mbert')"
   ]
  },
  {
   "cell_type": "code",
   "execution_count": 7,
   "id": "f87fa531-4ed1-49e9-a43b-66c5b05f4bcf",
   "metadata": {},
   "outputs": [
    {
     "name": "stderr",
     "output_type": "stream",
     "text": [
      "2024-02-13 15:08:37 INFO Loading the data\n",
      "2024-02-13 15:08:45 INFO \n",
      "Dataset(n_sentences=8984, n_batches=35, n_buckets=8)\n",
      "2024-02-13 15:08:45 INFO Evaluating the dataset\n",
      "2024-02-13 15:08:53 INFO loss: 5.6423 - UCM: 39.87% LCM:  8.47% UAS: 83.52% LAS: 69.73%\n",
      "2024-02-13 15:08:53 INFO 0:00:08.119031s elapsed, 1106.54 Sents/s\n"
     ]
    }
   ],
   "source": [
    "loss, metric = second_parser.evaluate(combined_dev)"
   ]
  },
  {
   "cell_type": "markdown",
   "id": "b2cb0a90-eed4-4429-bd88-765af6ea887d",
   "metadata": {},
   "source": [
    "## Evaluation on the LT2024 Test Data"
   ]
  },
  {
   "cell_type": "code",
   "execution_count": 13,
   "id": "4a6f4910-bb4b-4313-9772-1cbf572c2934",
   "metadata": {
    "tags": []
   },
   "outputs": [],
   "source": [
    "model_path = \"./exp/sbert-combined-sbatch/model\""
   ]
  },
  {
   "cell_type": "code",
   "execution_count": 9,
   "id": "d2f2ebf5-19fd-484b-8bfa-f32bb317900d",
   "metadata": {
    "tags": []
   },
   "outputs": [],
   "source": [
    "gold_prose = \"../test_data/EvaLatin_2024_prose_gold.conllu\"\n",
    "gold_poetry = \"../test_data/EvaLatin_2024_poetry_gold.conllu\""
   ]
  },
  {
   "cell_type": "code",
   "execution_count": 14,
   "id": "bac1169d-d591-4110-8e0f-2c6ba5e634b8",
   "metadata": {
    "tags": []
   },
   "outputs": [
    {
     "name": "stderr",
     "output_type": "stream",
     "text": [
      "Using bos_token, but it is not set yet.\n",
      "Using eos_token, but it is not set yet.\n"
     ]
    },
    {
     "name": "stdout",
     "output_type": "stream",
     "text": [
      "mlp_size - no sbert 800\n",
      "with sbert 1056\n"
     ]
    },
    {
     "name": "stderr",
     "output_type": "stream",
     "text": [
      "Using bos_token, but it is not set yet.\n",
      "Using eos_token, but it is not set yet.\n"
     ]
    }
   ],
   "source": [
    "parser = Parser.load(model_path)"
   ]
  },
  {
   "cell_type": "code",
   "execution_count": 5,
   "id": "c4292b57-892d-4c59-8a11-0b03ae1db002",
   "metadata": {
    "tags": []
   },
   "outputs": [
    {
     "name": "stderr",
     "output_type": "stream",
     "text": [
      "2024-03-09 12:13:50 INFO Loading the data\n",
      "2024-03-09 12:13:50 INFO \n",
      "Dataset(n_sentences=299, n_batches=8, n_buckets=8)\n",
      "2024-03-09 12:13:50 INFO Evaluating the dataset\n",
      "/scratch/r.behr/llmdetect/detect_venv/lib/python3.11/site-packages/torch/nn/modules/rnn.py:28: UserWarning: apply_permutation is deprecated, please use tensor.index_select(dim, permutation) instead\n",
      "  warnings.warn(\"apply_permutation is deprecated, please use tensor.index_select(dim, permutation) instead\")\n",
      "2024-03-09 12:13:51 INFO loss: 2.6546 - UCM: 14.38% LCM:  3.68% UAS: 77.49% LAS: 64.15%\n",
      "2024-03-09 12:13:51 INFO 0:00:00.643499s elapsed, 464.65 Sents/s\n"
     ]
    }
   ],
   "source": [
    "loss, metric = parser.evaluate(gold_prose)"
   ]
  },
  {
   "cell_type": "code",
   "execution_count": 6,
   "id": "738be898-5d25-4d32-b042-23c920732b46",
   "metadata": {
    "tags": []
   },
   "outputs": [
    {
     "name": "stderr",
     "output_type": "stream",
     "text": [
      "2024-03-09 12:13:52 INFO Loading the data\n",
      "2024-03-09 12:13:53 INFO \n",
      "Dataset(n_sentences=555, n_batches=8, n_buckets=8)\n",
      "2024-03-09 12:13:53 INFO Evaluating the dataset\n",
      "2024-03-09 12:13:53 INFO loss: 2.7063 - UCM: 35.50% LCM: 15.14% UAS: 75.81% LAS: 59.67%\n",
      "2024-03-09 12:13:53 INFO 0:00:00.697075s elapsed, 796.18 Sents/s\n"
     ]
    }
   ],
   "source": [
    "loss, metric = parser.evaluate(gold_poetry)"
   ]
  },
  {
   "cell_type": "code",
   "execution_count": 7,
   "id": "c895b384-53fc-46cd-832a-f0f824efacca",
   "metadata": {
    "tags": []
   },
   "outputs": [
    {
     "name": "stdout",
     "output_type": "stream",
     "text": [
      "mlp_size - no sbert 800\n"
     ]
    },
    {
     "data": {
      "application/vnd.jupyter.widget-view+json": {
       "model_id": "c1db258c4a26460fab09ee916290004b",
       "version_major": 2,
       "version_minor": 0
      },
      "text/plain": [
       "Downloading tokenizer_config.json:   0%|          | 0.00/49.0 [00:00<?, ?B/s]"
      ]
     },
     "metadata": {},
     "output_type": "display_data"
    },
    {
     "name": "stderr",
     "output_type": "stream",
     "text": [
      "Using bos_token, but it is not set yet.\n",
      "Using eos_token, but it is not set yet.\n"
     ]
    }
   ],
   "source": [
    "second_parser = Parser.load('la_ittb_llct.mbert')"
   ]
  },
  {
   "cell_type": "code",
   "execution_count": 8,
   "id": "d5c17ed2-3115-4c9a-8378-5619ba15ce2f",
   "metadata": {
    "tags": []
   },
   "outputs": [
    {
     "name": "stderr",
     "output_type": "stream",
     "text": [
      "2024-03-09 12:14:03 INFO Loading the data\n",
      "2024-03-09 12:14:03 INFO \n",
      "Dataset(n_sentences=299, n_batches=8, n_buckets=8)\n",
      "2024-03-09 12:14:03 INFO Evaluating the dataset\n",
      "2024-03-09 12:14:03 INFO loss: 7.9201 - UCM:  2.34% LCM:  0.00% UAS: 53.91% LAS: 35.57%\n",
      "2024-03-09 12:14:03 INFO 0:00:00.414106s elapsed, 722.04 Sents/s\n"
     ]
    }
   ],
   "source": [
    "loss, metric = second_parser.evaluate(gold_prose)"
   ]
  },
  {
   "cell_type": "code",
   "execution_count": 9,
   "id": "47b2af19-5cd9-4518-82af-930531f81160",
   "metadata": {},
   "outputs": [
    {
     "name": "stderr",
     "output_type": "stream",
     "text": [
      "2024-03-09 12:14:05 INFO Loading the data\n",
      "2024-03-09 12:14:06 INFO \n",
      "Dataset(n_sentences=299, n_batches=8, n_buckets=8)\n",
      "2024-03-09 12:14:06 INFO Evaluating the dataset\n",
      "2024-03-09 12:14:06 INFO loss: 7.8765 - UCM:  2.34% LCM:  0.00% UAS: 53.91% LAS: 35.57%\n",
      "2024-03-09 12:14:06 INFO 0:00:00.412864s elapsed, 724.21 Sents/s\n"
     ]
    }
   ],
   "source": [
    "loss, metric = second_parser.evaluate(gold_poetry)"
   ]
  },
  {
   "cell_type": "code",
   "execution_count": 10,
   "id": "259f4662-917d-472e-b72f-88d372482696",
   "metadata": {
    "tags": []
   },
   "outputs": [
    {
     "name": "stdout",
     "output_type": "stream",
     "text": [
      "mlp_size - no sbert 800\n"
     ]
    },
    {
     "name": "stderr",
     "output_type": "stream",
     "text": [
      "Using bos_token, but it is not set yet.\n",
      "Using eos_token, but it is not set yet.\n"
     ]
    }
   ],
   "source": [
    "third_parser = Parser.load('./exp/no-sbert-combined/model')"
   ]
  },
  {
   "cell_type": "code",
   "execution_count": 10,
   "id": "f612fd6f-ba09-4ade-b013-f72168d26d1c",
   "metadata": {},
   "outputs": [
    {
     "name": "stderr",
     "output_type": "stream",
     "text": [
      "2024-03-09 17:32:43 INFO Loading the data\n",
      "2024-03-09 17:32:43 INFO \n",
      "Dataset(n_sentences=299, n_batches=8, n_buckets=8)\n",
      "2024-03-09 17:32:43 INFO Evaluating the dataset\n",
      "2024-03-09 17:32:44 INFO loss: 3.3226 - UCM: 14.38% LCM:  3.68% UAS: 77.39% LAS: 63.18%\n",
      "2024-03-09 17:32:44 INFO 0:00:00.326076s elapsed, 916.96 Sents/s\n"
     ]
    }
   ],
   "source": [
    "loss, metric = third_parser.evaluate(gold_prose)"
   ]
  },
  {
   "cell_type": "code",
   "execution_count": 11,
   "id": "2da85818-7634-45d3-a44e-8e20ba32cc2c",
   "metadata": {},
   "outputs": [
    {
     "name": "stderr",
     "output_type": "stream",
     "text": [
      "2024-03-09 17:32:46 INFO Loading the data\n",
      "2024-03-09 17:32:46 INFO \n",
      "Dataset(n_sentences=555, n_batches=8, n_buckets=8)\n",
      "2024-03-09 17:32:46 INFO Evaluating the dataset\n",
      "2024-03-09 17:32:47 INFO loss: 2.8925 - UCM: 33.87% LCM: 13.69% UAS: 75.65% LAS: 59.33%\n",
      "2024-03-09 17:32:47 INFO 0:00:00.431658s elapsed, 1285.74 Sents/s\n"
     ]
    }
   ],
   "source": [
    "loss, metric = third_parser.evaluate(gold_poetry)"
   ]
  },
  {
   "cell_type": "code",
   "execution_count": 17,
   "id": "ed36aa55-7b91-4ebd-8aad-1231489058b4",
   "metadata": {
    "tags": []
   },
   "outputs": [
    {
     "name": "stderr",
     "output_type": "stream",
     "text": [
      "2024-03-09 17:43:40 INFO Loading the data\n",
      "2024-03-09 17:43:48 INFO \n",
      "Dataset(n_sentences=8984, n_batches=35, n_buckets=8)\n",
      "2024-03-09 17:43:48 INFO Evaluating the dataset\n",
      "2024-03-09 17:43:54 INFO loss: 0.4778 - UCM: 60.99% LCM: 46.50% UAS: 92.94% LAS: 89.43%\n",
      "2024-03-09 17:43:54 INFO 0:00:05.670316s elapsed, 1584.39 Sents/s\n"
     ]
    },
    {
     "data": {
      "text/plain": [
       "(0.4778144657611847, UCM: 60.99% LCM: 46.50% UAS: 92.94% LAS: 89.43%)"
      ]
     },
     "execution_count": 17,
     "metadata": {},
     "output_type": "execute_result"
    }
   ],
   "source": [
    "third_parser.evaluate(\"../combined/dev.conllu\")"
   ]
  },
  {
   "cell_type": "code",
   "execution_count": 16,
   "id": "a8225046-0a36-4163-9b0b-734ffbb36284",
   "metadata": {
    "tags": []
   },
   "outputs": [
    {
     "name": "stderr",
     "output_type": "stream",
     "text": [
      "2024-03-09 17:43:17 INFO Loading the data\n",
      "2024-03-09 17:43:25 INFO \n",
      "Dataset(n_sentences=8984, n_batches=36, n_buckets=8)\n",
      "2024-03-09 17:43:25 INFO Evaluating the dataset\n",
      "2024-03-09 17:43:36 INFO loss: 0.4830 - UCM: 60.83% LCM: 46.66% UAS: 92.92% LAS: 89.38%\n",
      "2024-03-09 17:43:36 INFO 0:00:11.173303s elapsed, 804.06 Sents/s\n"
     ]
    },
    {
     "data": {
      "text/plain": [
       "(0.4830123285452525, UCM: 60.83% LCM: 46.66% UAS: 92.92% LAS: 89.38%)"
      ]
     },
     "execution_count": 16,
     "metadata": {},
     "output_type": "execute_result"
    }
   ],
   "source": [
    "parser.evaluate(\"../combined/dev.conllu\")"
   ]
  },
  {
   "cell_type": "markdown",
   "id": "e183ba02-b699-4bb0-a6a9-7b6d7eda16d0",
   "metadata": {},
   "source": [
    "## Get total output of the gold prose and poetry \n",
    "Want to get the total output of the gold prose and poetry from the other models, so that it can be compared with the first model"
   ]
  },
  {
   "cell_type": "code",
   "execution_count": 2,
   "id": "2ed1ee29-6ece-406f-9b24-ef79a4d6f874",
   "metadata": {
    "tags": []
   },
   "outputs": [],
   "source": [
    "test_prose = \"../test_data/EvaLatin_2024_prose-test-data.conllu\"\n",
    "test_poetry = \"../test_data/EvaLatin_2024_poetry_test_data.conllu\"\n",
    "output_prose_two = \"../test_pred/parser_2_prose.conllu\"\n",
    "output_poetry_two = \"../test_pred/parser_2_poetry.conllu\""
   ]
  },
  {
   "cell_type": "code",
   "execution_count": 3,
   "id": "82c3a7ea-6503-4e30-848d-ab5edf19177d",
   "metadata": {
    "tags": []
   },
   "outputs": [
    {
     "name": "stdout",
     "output_type": "stream",
     "text": [
      "mlp_size - no sbert 800\n"
     ]
    },
    {
     "name": "stderr",
     "output_type": "stream",
     "text": [
      "Using bos_token, but it is not set yet.\n",
      "Using eos_token, but it is not set yet.\n"
     ]
    }
   ],
   "source": [
    "second_parser = Parser.load('la_ittb_llct.mbert')"
   ]
  },
  {
   "cell_type": "code",
   "execution_count": 4,
   "id": "948b4def-0f89-4b0c-8db1-8f90791d398e",
   "metadata": {
    "tags": []
   },
   "outputs": [
    {
     "name": "stderr",
     "output_type": "stream",
     "text": [
      "/scratch/r.behr/llmdetect/detect_venv/lib/python3.11/site-packages/torch/nn/modules/rnn.py:28: UserWarning: apply_permutation is deprecated, please use tensor.index_select(dim, permutation) instead\n",
      "  warnings.warn(\"apply_permutation is deprecated, please use tensor.index_select(dim, permutation) instead\")\n"
     ]
    },
    {
     "data": {
      "text/plain": [
       "Dataset(n_sentences=555, n_batches=8, n_buckets=8)"
      ]
     },
     "execution_count": 4,
     "metadata": {},
     "output_type": "execute_result"
    }
   ],
   "source": [
    "second_parser.predict(test_prose,pred=output_prose_two,text=None)\n",
    "second_parser.predict(test_poetry,pred=output_poetry_two,text=None)"
   ]
  },
  {
   "cell_type": "code",
   "execution_count": 5,
   "id": "6979dc71-02ab-421d-b256-855d86e2891c",
   "metadata": {
    "tags": []
   },
   "outputs": [
    {
     "name": "stdout",
     "output_type": "stream",
     "text": [
      "mlp_size - no sbert 800\n"
     ]
    },
    {
     "name": "stderr",
     "output_type": "stream",
     "text": [
      "Using bos_token, but it is not set yet.\n",
      "Using eos_token, but it is not set yet.\n"
     ]
    }
   ],
   "source": [
    "third_parser = Parser.load('./exp/no-sbert-combined/model')"
   ]
  },
  {
   "cell_type": "code",
   "execution_count": 6,
   "id": "9c67520c-5403-4594-9654-c0ad953098f4",
   "metadata": {
    "tags": []
   },
   "outputs": [],
   "source": [
    "output_prose_three = \"../test_pred/parser_3_prose.conllu\"\n",
    "output_poetry_three = \"../test_pred/parser_3_poetry.conllu\""
   ]
  },
  {
   "cell_type": "code",
   "execution_count": 7,
   "id": "6b87b4c4-0cc3-4ade-9328-bd0cfa530fc5",
   "metadata": {
    "tags": []
   },
   "outputs": [
    {
     "data": {
      "text/plain": [
       "Dataset(n_sentences=555, n_batches=8, n_buckets=8)"
      ]
     },
     "execution_count": 7,
     "metadata": {},
     "output_type": "execute_result"
    }
   ],
   "source": [
    "third_parser.predict(test_prose,pred=output_prose_three,text=None)\n",
    "third_parser.predict(test_poetry,pred=output_poetry_three,text=None)"
   ]
  }
 ],
 "metadata": {
  "kernelspec": {
   "display_name": "Python 3 (ipykernel)",
   "language": "python",
   "name": "python3"
  },
  "language_info": {
   "codemirror_mode": {
    "name": "ipython",
    "version": 3
   },
   "file_extension": ".py",
   "mimetype": "text/x-python",
   "name": "python",
   "nbconvert_exporter": "python",
   "pygments_lexer": "ipython3",
   "version": "3.11.5"
  }
 },
 "nbformat": 4,
 "nbformat_minor": 5
}
